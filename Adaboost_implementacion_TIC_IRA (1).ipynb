{
  "nbformat": 4,
  "nbformat_minor": 0,
  "metadata": {
    "colab": {
      "provenance": []
    },
    "kernelspec": {
      "name": "python3",
      "display_name": "Python 3"
    },
    "language_info": {
      "name": "python"
    }
  },
  "cells": [
    {
      "cell_type": "markdown",
      "source": [
        "#Importación de las librerias a utilizar"
      ],
      "metadata": {
        "id": "oIu2Lf9-LXgK"
      }
    },
    {
      "cell_type": "code",
      "execution_count": null,
      "metadata": {
        "id": "NrPI24IGLUkV"
      },
      "outputs": [],
      "source": [
        "from google.colab import drive\n",
        "import numpy as np\n",
        "import pandas as pd\n",
        "from sklearn.model_selection import train_test_split\n",
        "from imblearn.under_sampling import NearMiss\n",
        "from sklearn.model_selection import GridSearchCV\n",
        "from collections import Counter\n",
        "from sklearn.metrics import accuracy_score, balanced_accuracy_score, recall_score, f1_score\n",
        "from sklearn.model_selection import GridSearchCV, cross_val_score\n",
        "from sklearn.ensemble import AdaBoostClassifier\n",
        "from sklearn.tree import DecisionTreeClassifier\n",
        "import matplotlib.pyplot as plt\n",
        "import seaborn as sns\n",
        "import statistics\n",
        "import warnings"
      ]
    },
    {
      "cell_type": "markdown",
      "source": [
        "#Montaje del Dataset"
      ],
      "metadata": {
        "id": "2EIgm_4oL6iX"
      }
    },
    {
      "cell_type": "code",
      "source": [
        "drive.mount('/content/drive')\n",
        "data = pd.read_csv(\"drive/MyDrive/Colab Notebooks/data/Datos_IRA.csv\")"
      ],
      "metadata": {
        "colab": {
          "base_uri": "https://localhost:8080/"
        },
        "id": "IzwZRCjaL55d",
        "outputId": "9c82f323-695f-42c5-88b2-7250cb22b9d4"
      },
      "execution_count": null,
      "outputs": [
        {
          "output_type": "stream",
          "name": "stdout",
          "text": [
            "Mounted at /content/drive\n"
          ]
        }
      ]
    },
    {
      "cell_type": "code",
      "source": [
        "data"
      ],
      "metadata": {
        "colab": {
          "base_uri": "https://localhost:8080/",
          "height": 443
        },
        "id": "Usz9WdEEg-Mx",
        "outputId": "1d721eee-1211-498d-ee24-a2f6f5fc5c90"
      },
      "execution_count": null,
      "outputs": [
        {
          "output_type": "execute_result",
          "data": {
            "text/plain": [
              "       Bp     Sg   Al   Su  Rbc    Bu   Sc     Sod   Pot  Hemo    Wbcc  Rbcc  \\\n",
              "0    80.0  1.020  1.0  0.0  1.0  36.0  1.2  137.53  4.63  15.4  7800.0  5.20   \n",
              "1    50.0  1.020  4.0  0.0  1.0  18.0  0.8  137.53  4.63  11.3  6000.0  4.71   \n",
              "2    80.0  1.010  2.0  3.0  1.0  53.0  1.8  137.53  4.63   9.6  7500.0  4.71   \n",
              "3    70.0  1.005  4.0  0.0  1.0  56.0  3.8  111.00  2.50  11.2  6700.0  3.90   \n",
              "4    80.0  1.010  2.0  0.0  1.0  26.0  1.4  137.53  4.63  11.6  7300.0  4.60   \n",
              "..    ...    ...  ...  ...  ...   ...  ...     ...   ...   ...     ...   ...   \n",
              "395  80.0  1.020  0.0  0.0  1.0  49.0  0.5  150.00  4.90  15.7  6700.0  4.90   \n",
              "396  70.0  1.025  0.0  0.0  1.0  31.0  1.2  141.00  3.50  16.5  7800.0  6.20   \n",
              "397  80.0  1.020  0.0  0.0  1.0  26.0  0.6  137.00  4.40  15.8  6600.0  5.40   \n",
              "398  60.0  1.025  0.0  0.0  1.0  50.0  1.0  135.00  4.90  14.2  7200.0  5.90   \n",
              "399  80.0  1.025  0.0  0.0  1.0  18.0  1.1  141.00  3.50  15.8  6800.0  6.10   \n",
              "\n",
              "     Htn  Class  \n",
              "0    1.0      1  \n",
              "1    0.0      1  \n",
              "2    0.0      1  \n",
              "3    1.0      1  \n",
              "4    0.0      1  \n",
              "..   ...    ...  \n",
              "395  0.0      0  \n",
              "396  0.0      0  \n",
              "397  0.0      0  \n",
              "398  0.0      0  \n",
              "399  0.0      0  \n",
              "\n",
              "[400 rows x 14 columns]"
            ],
            "text/html": [
              "\n",
              "  <div id=\"df-90fffe5e-8036-4c3c-85e2-8d8e0d6545ef\" class=\"colab-df-container\">\n",
              "    <div>\n",
              "<style scoped>\n",
              "    .dataframe tbody tr th:only-of-type {\n",
              "        vertical-align: middle;\n",
              "    }\n",
              "\n",
              "    .dataframe tbody tr th {\n",
              "        vertical-align: top;\n",
              "    }\n",
              "\n",
              "    .dataframe thead th {\n",
              "        text-align: right;\n",
              "    }\n",
              "</style>\n",
              "<table border=\"1\" class=\"dataframe\">\n",
              "  <thead>\n",
              "    <tr style=\"text-align: right;\">\n",
              "      <th></th>\n",
              "      <th>Bp</th>\n",
              "      <th>Sg</th>\n",
              "      <th>Al</th>\n",
              "      <th>Su</th>\n",
              "      <th>Rbc</th>\n",
              "      <th>Bu</th>\n",
              "      <th>Sc</th>\n",
              "      <th>Sod</th>\n",
              "      <th>Pot</th>\n",
              "      <th>Hemo</th>\n",
              "      <th>Wbcc</th>\n",
              "      <th>Rbcc</th>\n",
              "      <th>Htn</th>\n",
              "      <th>Class</th>\n",
              "    </tr>\n",
              "  </thead>\n",
              "  <tbody>\n",
              "    <tr>\n",
              "      <th>0</th>\n",
              "      <td>80.0</td>\n",
              "      <td>1.020</td>\n",
              "      <td>1.0</td>\n",
              "      <td>0.0</td>\n",
              "      <td>1.0</td>\n",
              "      <td>36.0</td>\n",
              "      <td>1.2</td>\n",
              "      <td>137.53</td>\n",
              "      <td>4.63</td>\n",
              "      <td>15.4</td>\n",
              "      <td>7800.0</td>\n",
              "      <td>5.20</td>\n",
              "      <td>1.0</td>\n",
              "      <td>1</td>\n",
              "    </tr>\n",
              "    <tr>\n",
              "      <th>1</th>\n",
              "      <td>50.0</td>\n",
              "      <td>1.020</td>\n",
              "      <td>4.0</td>\n",
              "      <td>0.0</td>\n",
              "      <td>1.0</td>\n",
              "      <td>18.0</td>\n",
              "      <td>0.8</td>\n",
              "      <td>137.53</td>\n",
              "      <td>4.63</td>\n",
              "      <td>11.3</td>\n",
              "      <td>6000.0</td>\n",
              "      <td>4.71</td>\n",
              "      <td>0.0</td>\n",
              "      <td>1</td>\n",
              "    </tr>\n",
              "    <tr>\n",
              "      <th>2</th>\n",
              "      <td>80.0</td>\n",
              "      <td>1.010</td>\n",
              "      <td>2.0</td>\n",
              "      <td>3.0</td>\n",
              "      <td>1.0</td>\n",
              "      <td>53.0</td>\n",
              "      <td>1.8</td>\n",
              "      <td>137.53</td>\n",
              "      <td>4.63</td>\n",
              "      <td>9.6</td>\n",
              "      <td>7500.0</td>\n",
              "      <td>4.71</td>\n",
              "      <td>0.0</td>\n",
              "      <td>1</td>\n",
              "    </tr>\n",
              "    <tr>\n",
              "      <th>3</th>\n",
              "      <td>70.0</td>\n",
              "      <td>1.005</td>\n",
              "      <td>4.0</td>\n",
              "      <td>0.0</td>\n",
              "      <td>1.0</td>\n",
              "      <td>56.0</td>\n",
              "      <td>3.8</td>\n",
              "      <td>111.00</td>\n",
              "      <td>2.50</td>\n",
              "      <td>11.2</td>\n",
              "      <td>6700.0</td>\n",
              "      <td>3.90</td>\n",
              "      <td>1.0</td>\n",
              "      <td>1</td>\n",
              "    </tr>\n",
              "    <tr>\n",
              "      <th>4</th>\n",
              "      <td>80.0</td>\n",
              "      <td>1.010</td>\n",
              "      <td>2.0</td>\n",
              "      <td>0.0</td>\n",
              "      <td>1.0</td>\n",
              "      <td>26.0</td>\n",
              "      <td>1.4</td>\n",
              "      <td>137.53</td>\n",
              "      <td>4.63</td>\n",
              "      <td>11.6</td>\n",
              "      <td>7300.0</td>\n",
              "      <td>4.60</td>\n",
              "      <td>0.0</td>\n",
              "      <td>1</td>\n",
              "    </tr>\n",
              "    <tr>\n",
              "      <th>...</th>\n",
              "      <td>...</td>\n",
              "      <td>...</td>\n",
              "      <td>...</td>\n",
              "      <td>...</td>\n",
              "      <td>...</td>\n",
              "      <td>...</td>\n",
              "      <td>...</td>\n",
              "      <td>...</td>\n",
              "      <td>...</td>\n",
              "      <td>...</td>\n",
              "      <td>...</td>\n",
              "      <td>...</td>\n",
              "      <td>...</td>\n",
              "      <td>...</td>\n",
              "    </tr>\n",
              "    <tr>\n",
              "      <th>395</th>\n",
              "      <td>80.0</td>\n",
              "      <td>1.020</td>\n",
              "      <td>0.0</td>\n",
              "      <td>0.0</td>\n",
              "      <td>1.0</td>\n",
              "      <td>49.0</td>\n",
              "      <td>0.5</td>\n",
              "      <td>150.00</td>\n",
              "      <td>4.90</td>\n",
              "      <td>15.7</td>\n",
              "      <td>6700.0</td>\n",
              "      <td>4.90</td>\n",
              "      <td>0.0</td>\n",
              "      <td>0</td>\n",
              "    </tr>\n",
              "    <tr>\n",
              "      <th>396</th>\n",
              "      <td>70.0</td>\n",
              "      <td>1.025</td>\n",
              "      <td>0.0</td>\n",
              "      <td>0.0</td>\n",
              "      <td>1.0</td>\n",
              "      <td>31.0</td>\n",
              "      <td>1.2</td>\n",
              "      <td>141.00</td>\n",
              "      <td>3.50</td>\n",
              "      <td>16.5</td>\n",
              "      <td>7800.0</td>\n",
              "      <td>6.20</td>\n",
              "      <td>0.0</td>\n",
              "      <td>0</td>\n",
              "    </tr>\n",
              "    <tr>\n",
              "      <th>397</th>\n",
              "      <td>80.0</td>\n",
              "      <td>1.020</td>\n",
              "      <td>0.0</td>\n",
              "      <td>0.0</td>\n",
              "      <td>1.0</td>\n",
              "      <td>26.0</td>\n",
              "      <td>0.6</td>\n",
              "      <td>137.00</td>\n",
              "      <td>4.40</td>\n",
              "      <td>15.8</td>\n",
              "      <td>6600.0</td>\n",
              "      <td>5.40</td>\n",
              "      <td>0.0</td>\n",
              "      <td>0</td>\n",
              "    </tr>\n",
              "    <tr>\n",
              "      <th>398</th>\n",
              "      <td>60.0</td>\n",
              "      <td>1.025</td>\n",
              "      <td>0.0</td>\n",
              "      <td>0.0</td>\n",
              "      <td>1.0</td>\n",
              "      <td>50.0</td>\n",
              "      <td>1.0</td>\n",
              "      <td>135.00</td>\n",
              "      <td>4.90</td>\n",
              "      <td>14.2</td>\n",
              "      <td>7200.0</td>\n",
              "      <td>5.90</td>\n",
              "      <td>0.0</td>\n",
              "      <td>0</td>\n",
              "    </tr>\n",
              "    <tr>\n",
              "      <th>399</th>\n",
              "      <td>80.0</td>\n",
              "      <td>1.025</td>\n",
              "      <td>0.0</td>\n",
              "      <td>0.0</td>\n",
              "      <td>1.0</td>\n",
              "      <td>18.0</td>\n",
              "      <td>1.1</td>\n",
              "      <td>141.00</td>\n",
              "      <td>3.50</td>\n",
              "      <td>15.8</td>\n",
              "      <td>6800.0</td>\n",
              "      <td>6.10</td>\n",
              "      <td>0.0</td>\n",
              "      <td>0</td>\n",
              "    </tr>\n",
              "  </tbody>\n",
              "</table>\n",
              "<p>400 rows × 14 columns</p>\n",
              "</div>\n",
              "    <div class=\"colab-df-buttons\">\n",
              "\n",
              "  <div class=\"colab-df-container\">\n",
              "    <button class=\"colab-df-convert\" onclick=\"convertToInteractive('df-90fffe5e-8036-4c3c-85e2-8d8e0d6545ef')\"\n",
              "            title=\"Convert this dataframe to an interactive table.\"\n",
              "            style=\"display:none;\">\n",
              "\n",
              "  <svg xmlns=\"http://www.w3.org/2000/svg\" height=\"24px\" viewBox=\"0 -960 960 960\">\n",
              "    <path d=\"M120-120v-720h720v720H120Zm60-500h600v-160H180v160Zm220 220h160v-160H400v160Zm0 220h160v-160H400v160ZM180-400h160v-160H180v160Zm440 0h160v-160H620v160ZM180-180h160v-160H180v160Zm440 0h160v-160H620v160Z\"/>\n",
              "  </svg>\n",
              "    </button>\n",
              "\n",
              "  <style>\n",
              "    .colab-df-container {\n",
              "      display:flex;\n",
              "      gap: 12px;\n",
              "    }\n",
              "\n",
              "    .colab-df-convert {\n",
              "      background-color: #E8F0FE;\n",
              "      border: none;\n",
              "      border-radius: 50%;\n",
              "      cursor: pointer;\n",
              "      display: none;\n",
              "      fill: #1967D2;\n",
              "      height: 32px;\n",
              "      padding: 0 0 0 0;\n",
              "      width: 32px;\n",
              "    }\n",
              "\n",
              "    .colab-df-convert:hover {\n",
              "      background-color: #E2EBFA;\n",
              "      box-shadow: 0px 1px 2px rgba(60, 64, 67, 0.3), 0px 1px 3px 1px rgba(60, 64, 67, 0.15);\n",
              "      fill: #174EA6;\n",
              "    }\n",
              "\n",
              "    .colab-df-buttons div {\n",
              "      margin-bottom: 4px;\n",
              "    }\n",
              "\n",
              "    [theme=dark] .colab-df-convert {\n",
              "      background-color: #3B4455;\n",
              "      fill: #D2E3FC;\n",
              "    }\n",
              "\n",
              "    [theme=dark] .colab-df-convert:hover {\n",
              "      background-color: #434B5C;\n",
              "      box-shadow: 0px 1px 3px 1px rgba(0, 0, 0, 0.15);\n",
              "      filter: drop-shadow(0px 1px 2px rgba(0, 0, 0, 0.3));\n",
              "      fill: #FFFFFF;\n",
              "    }\n",
              "  </style>\n",
              "\n",
              "    <script>\n",
              "      const buttonEl =\n",
              "        document.querySelector('#df-90fffe5e-8036-4c3c-85e2-8d8e0d6545ef button.colab-df-convert');\n",
              "      buttonEl.style.display =\n",
              "        google.colab.kernel.accessAllowed ? 'block' : 'none';\n",
              "\n",
              "      async function convertToInteractive(key) {\n",
              "        const element = document.querySelector('#df-90fffe5e-8036-4c3c-85e2-8d8e0d6545ef');\n",
              "        const dataTable =\n",
              "          await google.colab.kernel.invokeFunction('convertToInteractive',\n",
              "                                                    [key], {});\n",
              "        if (!dataTable) return;\n",
              "\n",
              "        const docLinkHtml = 'Like what you see? Visit the ' +\n",
              "          '<a target=\"_blank\" href=https://colab.research.google.com/notebooks/data_table.ipynb>data table notebook</a>'\n",
              "          + ' to learn more about interactive tables.';\n",
              "        element.innerHTML = '';\n",
              "        dataTable['output_type'] = 'display_data';\n",
              "        await google.colab.output.renderOutput(dataTable, element);\n",
              "        const docLink = document.createElement('div');\n",
              "        docLink.innerHTML = docLinkHtml;\n",
              "        element.appendChild(docLink);\n",
              "      }\n",
              "    </script>\n",
              "  </div>\n",
              "\n",
              "\n",
              "<div id=\"df-60857d66-9505-4ee1-a2e3-c7eeca46383e\">\n",
              "  <button class=\"colab-df-quickchart\" onclick=\"quickchart('df-60857d66-9505-4ee1-a2e3-c7eeca46383e')\"\n",
              "            title=\"Suggest charts\"\n",
              "            style=\"display:none;\">\n",
              "\n",
              "<svg xmlns=\"http://www.w3.org/2000/svg\" height=\"24px\"viewBox=\"0 0 24 24\"\n",
              "     width=\"24px\">\n",
              "    <g>\n",
              "        <path d=\"M19 3H5c-1.1 0-2 .9-2 2v14c0 1.1.9 2 2 2h14c1.1 0 2-.9 2-2V5c0-1.1-.9-2-2-2zM9 17H7v-7h2v7zm4 0h-2V7h2v10zm4 0h-2v-4h2v4z\"/>\n",
              "    </g>\n",
              "</svg>\n",
              "  </button>\n",
              "\n",
              "<style>\n",
              "  .colab-df-quickchart {\n",
              "      --bg-color: #E8F0FE;\n",
              "      --fill-color: #1967D2;\n",
              "      --hover-bg-color: #E2EBFA;\n",
              "      --hover-fill-color: #174EA6;\n",
              "      --disabled-fill-color: #AAA;\n",
              "      --disabled-bg-color: #DDD;\n",
              "  }\n",
              "\n",
              "  [theme=dark] .colab-df-quickchart {\n",
              "      --bg-color: #3B4455;\n",
              "      --fill-color: #D2E3FC;\n",
              "      --hover-bg-color: #434B5C;\n",
              "      --hover-fill-color: #FFFFFF;\n",
              "      --disabled-bg-color: #3B4455;\n",
              "      --disabled-fill-color: #666;\n",
              "  }\n",
              "\n",
              "  .colab-df-quickchart {\n",
              "    background-color: var(--bg-color);\n",
              "    border: none;\n",
              "    border-radius: 50%;\n",
              "    cursor: pointer;\n",
              "    display: none;\n",
              "    fill: var(--fill-color);\n",
              "    height: 32px;\n",
              "    padding: 0;\n",
              "    width: 32px;\n",
              "  }\n",
              "\n",
              "  .colab-df-quickchart:hover {\n",
              "    background-color: var(--hover-bg-color);\n",
              "    box-shadow: 0 1px 2px rgba(60, 64, 67, 0.3), 0 1px 3px 1px rgba(60, 64, 67, 0.15);\n",
              "    fill: var(--button-hover-fill-color);\n",
              "  }\n",
              "\n",
              "  .colab-df-quickchart-complete:disabled,\n",
              "  .colab-df-quickchart-complete:disabled:hover {\n",
              "    background-color: var(--disabled-bg-color);\n",
              "    fill: var(--disabled-fill-color);\n",
              "    box-shadow: none;\n",
              "  }\n",
              "\n",
              "  .colab-df-spinner {\n",
              "    border: 2px solid var(--fill-color);\n",
              "    border-color: transparent;\n",
              "    border-bottom-color: var(--fill-color);\n",
              "    animation:\n",
              "      spin 1s steps(1) infinite;\n",
              "  }\n",
              "\n",
              "  @keyframes spin {\n",
              "    0% {\n",
              "      border-color: transparent;\n",
              "      border-bottom-color: var(--fill-color);\n",
              "      border-left-color: var(--fill-color);\n",
              "    }\n",
              "    20% {\n",
              "      border-color: transparent;\n",
              "      border-left-color: var(--fill-color);\n",
              "      border-top-color: var(--fill-color);\n",
              "    }\n",
              "    30% {\n",
              "      border-color: transparent;\n",
              "      border-left-color: var(--fill-color);\n",
              "      border-top-color: var(--fill-color);\n",
              "      border-right-color: var(--fill-color);\n",
              "    }\n",
              "    40% {\n",
              "      border-color: transparent;\n",
              "      border-right-color: var(--fill-color);\n",
              "      border-top-color: var(--fill-color);\n",
              "    }\n",
              "    60% {\n",
              "      border-color: transparent;\n",
              "      border-right-color: var(--fill-color);\n",
              "    }\n",
              "    80% {\n",
              "      border-color: transparent;\n",
              "      border-right-color: var(--fill-color);\n",
              "      border-bottom-color: var(--fill-color);\n",
              "    }\n",
              "    90% {\n",
              "      border-color: transparent;\n",
              "      border-bottom-color: var(--fill-color);\n",
              "    }\n",
              "  }\n",
              "</style>\n",
              "\n",
              "  <script>\n",
              "    async function quickchart(key) {\n",
              "      const quickchartButtonEl =\n",
              "        document.querySelector('#' + key + ' button');\n",
              "      quickchartButtonEl.disabled = true;  // To prevent multiple clicks.\n",
              "      quickchartButtonEl.classList.add('colab-df-spinner');\n",
              "      try {\n",
              "        const charts = await google.colab.kernel.invokeFunction(\n",
              "            'suggestCharts', [key], {});\n",
              "      } catch (error) {\n",
              "        console.error('Error during call to suggestCharts:', error);\n",
              "      }\n",
              "      quickchartButtonEl.classList.remove('colab-df-spinner');\n",
              "      quickchartButtonEl.classList.add('colab-df-quickchart-complete');\n",
              "    }\n",
              "    (() => {\n",
              "      let quickchartButtonEl =\n",
              "        document.querySelector('#df-60857d66-9505-4ee1-a2e3-c7eeca46383e button');\n",
              "      quickchartButtonEl.style.display =\n",
              "        google.colab.kernel.accessAllowed ? 'block' : 'none';\n",
              "    })();\n",
              "  </script>\n",
              "</div>\n",
              "    </div>\n",
              "  </div>\n"
            ]
          },
          "metadata": {},
          "execution_count": 3
        }
      ]
    },
    {
      "cell_type": "markdown",
      "source": [
        "#Ver la matríz de correlación"
      ],
      "metadata": {
        "id": "TTjUOh7HMYvK"
      }
    },
    {
      "cell_type": "code",
      "source": [
        "Correlacion= data.corr()\n",
        "print(Correlacion)"
      ],
      "metadata": {
        "colab": {
          "base_uri": "https://localhost:8080/"
        },
        "id": "e6rOiCHUMbA0",
        "outputId": "dba562b2-b5b7-4f21-87f6-3fbdaf6f8b3b"
      },
      "execution_count": null,
      "outputs": [
        {
          "output_type": "stream",
          "name": "stdout",
          "text": [
            "             Bp        Sg        Al        Su       Rbc        Bu        Sc  \\\n",
            "Bp     1.000000 -0.164057  0.146060  0.190277 -0.151478  0.184173  0.144469   \n",
            "Sg    -0.164057  1.000000 -0.460835 -0.292053  0.253894 -0.249263 -0.176141   \n",
            "Al     0.146060 -0.460835  1.000000  0.262564 -0.374484  0.405035  0.229396   \n",
            "Su     0.190277 -0.292053  0.262564  1.000000 -0.092940  0.126074  0.094568   \n",
            "Rbc   -0.151478  0.253894 -0.374484 -0.092940  1.000000 -0.236270 -0.138391   \n",
            "Bu     0.184173 -0.249263  0.405035  0.126074 -0.236270  1.000000  0.581176   \n",
            "Sc     0.144469 -0.176141  0.229396  0.094568 -0.138391  0.581176  1.000000   \n",
            "Sod   -0.103383  0.217456 -0.270709 -0.053448  0.140568 -0.307357 -0.624493   \n",
            "Pot    0.066791 -0.063450  0.114484  0.180098  0.018164  0.336954  0.205361   \n",
            "Hemo  -0.279441  0.492103 -0.548681 -0.156875  0.280991 -0.540699 -0.342053   \n",
            "Wbcc   0.025963 -0.206880  0.200664  0.159033 -0.002205  0.041530 -0.005420   \n",
            "Rbcc  -0.220827  0.443437 -0.454131 -0.163825  0.202298 -0.465947 -0.323056   \n",
            "Htn    0.268003 -0.318956  0.478309  0.253179 -0.139342  0.387503  0.273904   \n",
            "Class  0.290145 -0.659504  0.598389  0.294555 -0.282642  0.371982  0.294076   \n",
            "\n",
            "            Sod       Pot      Hemo      Wbcc      Rbcc       Htn     Class  \n",
            "Bp    -0.103383  0.066791 -0.279441  0.025963 -0.220827  0.268003  0.290145  \n",
            "Sg     0.217456 -0.063450  0.492103 -0.206880  0.443437 -0.318956 -0.659504  \n",
            "Al    -0.270709  0.114484 -0.548681  0.200664 -0.454131  0.478309  0.598389  \n",
            "Su    -0.053448  0.180098 -0.156875  0.159033 -0.163825  0.253179  0.294555  \n",
            "Rbc    0.140568  0.018164  0.280991 -0.002205  0.202298 -0.139342 -0.282642  \n",
            "Bu    -0.307357  0.336954 -0.540699  0.041530 -0.465947  0.387503  0.371982  \n",
            "Sc    -0.624493  0.205361 -0.342053 -0.005420 -0.323056  0.273904  0.294076  \n",
            "Sod    1.000000  0.067414  0.333604  0.006334  0.316883 -0.306501 -0.342268  \n",
            "Pot    0.067414  1.000000 -0.100612 -0.074057 -0.120418  0.057028  0.077063  \n",
            "Hemo   0.333604 -0.100612  1.000000 -0.153806  0.681864 -0.576932 -0.729537  \n",
            "Wbcc   0.006334 -0.074057 -0.153806  1.000000 -0.151380  0.123790  0.205266  \n",
            "Rbcc   0.316883 -0.120418  0.681864 -0.151380  1.000000 -0.527051 -0.590248  \n",
            "Htn   -0.306501  0.057028 -0.576932  0.123790 -0.527051  1.000000  0.586340  \n",
            "Class -0.342268  0.077063 -0.729537  0.205266 -0.590248  0.586340  1.000000  \n"
          ]
        }
      ]
    },
    {
      "cell_type": "markdown",
      "source": [
        "#Limpieza de datos"
      ],
      "metadata": {
        "id": "DzeSauugwDeu"
      }
    },
    {
      "cell_type": "markdown",
      "source": [
        "para ver los valores atipicos se realiza el diagrama de cajas y bigotes"
      ],
      "metadata": {
        "id": "6dxWAHgSwGNY"
      }
    },
    {
      "cell_type": "code",
      "source": [
        "plt.figure(figsize=(6,4))\n",
        "sns.boxplot(x = 'Class', y = 'Sg', data = data)\n",
        "plt.title('Gravedad especificada')\n",
        "plt.show()"
      ],
      "metadata": {
        "colab": {
          "base_uri": "https://localhost:8080/",
          "height": 410
        },
        "id": "WleZrDBzwF0N",
        "outputId": "21b93ceb-fe28-40e6-d540-77a47ea69907"
      },
      "execution_count": null,
      "outputs": [
        {
          "output_type": "display_data",
          "data": {
            "text/plain": [
              "<Figure size 600x400 with 1 Axes>"
            ],
            "image/png": "[encoded data removed]"
          },
          "metadata": {}
        }
      ]
    },
    {
      "cell_type": "code",
      "source": [
        "plt.figure(figsize=(6,4))\n",
        "sns.boxplot(x = 'Class', y = 'Al', data = data)\n",
        "plt.title('Albumina')\n",
        "plt.show()"
      ],
      "metadata": {
        "colab": {
          "base_uri": "https://localhost:8080/",
          "height": 410
        },
        "id": "OsNw3TdzwxWf",
        "outputId": "4038b246-3ffa-4ea3-bc0d-b88368bc9f19"
      },
      "execution_count": null,
      "outputs": [
        {
          "output_type": "display_data",
          "data": {
            "text/plain": [
              "<Figure size 600x400 with 1 Axes>"
            ],
            "image/png": "[encoded data removed]"
          },
          "metadata": {}
        }
      ]
    },
    {
      "cell_type": "code",
      "source": [
        "plt.figure(figsize=(6,4))\n",
        "sns.boxplot(x = 'Class', y = 'Hemo', data = data)\n",
        "plt.title('Hemoglobina')\n",
        "plt.show()"
      ],
      "metadata": {
        "colab": {
          "base_uri": "https://localhost:8080/",
          "height": 410
        },
        "id": "vByyGX9Xxtb0",
        "outputId": "45320d9c-a321-4257-8321-2c4382a91e0e"
      },
      "execution_count": null,
      "outputs": [
        {
          "output_type": "display_data",
          "data": {
            "text/plain": [
              "<Figure size 600x400 with 1 Axes>"
            ],
            "image/png": "[encoded data removed]"
          },
          "metadata": {}
        }
      ]
    },
    {
      "cell_type": "code",
      "source": [
        "plt.figure(figsize=(6,4))\n",
        "sns.boxplot(x = 'Class', y = 'Rbcc', data = data)\n",
        "plt.title('Recuento de glóbulos rojos')\n",
        "plt.show()"
      ],
      "metadata": {
        "colab": {
          "base_uri": "https://localhost:8080/",
          "height": 411
        },
        "id": "rh8pVa0ayFlb",
        "outputId": "c08cc471-2983-46c0-f6e9-b76694ed53fa"
      },
      "execution_count": null,
      "outputs": [
        {
          "output_type": "display_data",
          "data": {
            "text/plain": [
              "<Figure size 600x400 with 1 Axes>"
            ],
            "image/png": "[encoded data removed]"
          },
          "metadata": {}
        }
      ]
    },
    {
      "cell_type": "code",
      "source": [
        "plt.figure(figsize=(6,4))\n",
        "sns.boxplot(x = 'Class', y = 'Htn', data = data)\n",
        "plt.title('Hipertensión')\n",
        "plt.show()"
      ],
      "metadata": {
        "colab": {
          "base_uri": "https://localhost:8080/",
          "height": 411
        },
        "id": "wbyPbBGLyhlb",
        "outputId": "67135543-4fc5-406a-8409-c34d9e505e43"
      },
      "execution_count": null,
      "outputs": [
        {
          "output_type": "display_data",
          "data": {
            "text/plain": [
              "<Figure size 600x400 with 1 Axes>"
            ],
            "image/png": "[encoded data removed]"
          },
          "metadata": {}
        }
      ]
    },
    {
      "cell_type": "code",
      "source": [
        "#cuartiles\n",
        "q_Sg=statistics.quantiles(data['Sg'], n=4)\n",
        "print('Los cuartiles en orden para variable Sg son: ', q_Sg)\n",
        "\n",
        "q_Al=statistics.quantiles(data['Al'], n=4)\n",
        "print('Los cuartiles en orden para variable Al son: ', q_Al)\n",
        "\n",
        "q_Hemo=statistics.quantiles(data['Hemo'], n=4)\n",
        "print('Los cuartiles en orden para variable Hemo son: ', q_Hemo)\n",
        "\n",
        "q_Rbcc=statistics.quantiles(data['Rbcc'], n=4)\n",
        "print('Los cuartiles en orden para variable Rbcc son: ', q_Rbcc)\n",
        "\n",
        "q_Htn=statistics.quantiles(data['Htn'], n=4)\n",
        "print('Los cuartiles en orden para variable Htn son: ', q_Htn)"
      ],
      "metadata": {
        "colab": {
          "base_uri": "https://localhost:8080/"
        },
        "id": "b1KDsdq1zSbC",
        "outputId": "0194173c-84b1-4dfb-d37f-0869c4d00f1a"
      },
      "execution_count": null,
      "outputs": [
        {
          "output_type": "stream",
          "name": "stdout",
          "text": [
            "Los cuartiles en orden para variable Sg son:  [1.015, 1.02, 1.02]\n",
            "Los cuartiles en orden para variable Al son:  [0.0, 1.0, 2.0]\n",
            "Los cuartiles en orden para variable Hemo son:  [10.825000000000001, 12.53, 14.674999999999999]\n",
            "Los cuartiles en orden para variable Rbcc son:  [4.5, 4.71, 5.1]\n",
            "Los cuartiles en orden para variable Htn son:  [0.0, 0.0, 1.0]\n"
          ]
        }
      ]
    },
    {
      "cell_type": "code",
      "source": [
        "iqrSg=q_Sg[2]-q_Sg[0]\n",
        "iqrAl=q_Al[2]-q_Al[0]\n",
        "iqrHemo=q_Hemo[2]-q_Hemo[0]\n",
        "iqrRbcc=q_Rbcc[2]-q_Rbcc[0]\n",
        "iqrHtn=q_Htn[2]-q_Htn[0]\n",
        "\n",
        "print('iqrSg = ', iqrSg)\n",
        "print('iqrAl = ', iqrAl)\n",
        "print('iqrHemo = ', iqrHemo)\n",
        "print('iqrRbcc = ', iqrRbcc)\n",
        "print('iqrHtn = ', iqrHtn)"
      ],
      "metadata": {
        "colab": {
          "base_uri": "https://localhost:8080/"
        },
        "id": "wMG6y01O0ATE",
        "outputId": "146840f8-a07a-4d0c-9bf8-f194d551cb4e"
      },
      "execution_count": null,
      "outputs": [
        {
          "output_type": "stream",
          "name": "stdout",
          "text": [
            "iqrSg =  0.0050000000000001155\n",
            "iqrAl =  2.0\n",
            "iqrHemo =  3.849999999999998\n",
            "iqrRbcc =  0.5999999999999996\n",
            "iqrHtn =  1.0\n"
          ]
        }
      ]
    },
    {
      "cell_type": "code",
      "source": [
        "k=1.5\n",
        "\n",
        "LimInf_Sg=q_Sg[0]-k*iqrSg\n",
        "LimSup_Sg=q_Sg[2]+k*iqrSg\n",
        "\n",
        "LimInf_Al=q_Al[0]-k*iqrAl\n",
        "LimSup_Al=q_Al[2]+k*iqrAl\n",
        "\n",
        "LimInf_Hemo=q_Hemo[0]-k*iqrHemo\n",
        "LimSup_Hemo=q_Hemo[2]+k*iqrHemo\n",
        "\n",
        "LimInf_Rbcc=q_Rbcc[0]-k*iqrRbcc\n",
        "LimSup_Rbcc=q_Rbcc[2]+k*iqrRbcc\n",
        "\n",
        "LimInf_Htn=q_Htn[0]-k*iqrHtn\n",
        "LimSup_Htn=q_Htn[2]+k*iqrHtn\n",
        "\n",
        "print('Límite Superior Sg: ' , LimSup_Sg, 'Límite Inferior Sg: ', LimInf_Sg)\n",
        "print('Límite Superior Al: ' , LimSup_Al, 'Límite Inferior Al: ', LimInf_Al)\n",
        "print('Límite Superior Hemo: ' , LimSup_Hemo, 'Límite Inferior Hemo: ', LimInf_Hemo)\n",
        "print('Límite Superior Rbcc: ' , LimSup_Rbcc, 'Límite Inferior Rbcc: ', LimInf_Rbcc)\n",
        "print('Límite Superior Htn: ' , LimSup_Htn, 'Límite Inferior Htn: ', LimInf_Htn)"
      ],
      "metadata": {
        "colab": {
          "base_uri": "https://localhost:8080/"
        },
        "id": "edYjAia10m81",
        "outputId": "bff8602a-1a38-4d2c-e2ea-be155ab8fac4"
      },
      "execution_count": null,
      "outputs": [
        {
          "output_type": "stream",
          "name": "stdout",
          "text": [
            "Límite Superior Sg:  1.0275000000000003 Límite Inferior Sg:  1.0074999999999998\n",
            "Límite Superior Al:  5.0 Límite Inferior Al:  -3.0\n",
            "Límite Superior Hemo:  20.449999999999996 Límite Inferior Hemo:  5.050000000000004\n",
            "Límite Superior Rbcc:  5.999999999999999 Límite Inferior Rbcc:  3.6000000000000005\n",
            "Límite Superior Htn:  2.5 Límite Inferior Htn:  -1.5\n"
          ]
        }
      ]
    },
    {
      "cell_type": "code",
      "source": [
        "#se reempalzan los avalores atípicos por los límites superior e inferioir calculados:\n",
        "x=0\n",
        "contSg=0\n",
        "contAl=0\n",
        "contHemo=0\n",
        "contRbcc=0\n",
        "contHtn=0\n",
        "\n",
        "for x in range (400):\n",
        "    datoSg=data['Sg'][x]\n",
        "    if(datoSg>LimSup_Sg):\n",
        "        data['Sg'][x]=LimSup_Sg\n",
        "        contSg=contSg+1\n",
        "    elif(datoSg<LimInf_Sg):\n",
        "        data['Sg'][x]=LimInf_Sg\n",
        "        contSg=contSg+1\n",
        "\n",
        "    datoAl=data['Al'][x]\n",
        "    if(datoAl>LimSup_Al):\n",
        "        data['Al'][x]=LimSup_Al\n",
        "        contAl=contAl+1\n",
        "    elif(datoAl<LimInf_Al):\n",
        "        data['Al'][x]=LimInf_Al\n",
        "        contAl=contAl+1\n",
        "\n",
        "    datoHemo=data['Hemo'][x]\n",
        "    if(datoHemo>LimSup_Hemo):\n",
        "        data['Hemo'][x]=LimSup_Hemo\n",
        "        contHemo=contHemo+1\n",
        "    elif(datoHemo<LimInf_Hemo):\n",
        "        data['Hemo'][x]=LimInf_Hemo\n",
        "        contHemo=contHemo+1\n",
        "\n",
        "    datoRbcc=data['Rbcc'][x]\n",
        "    if(datoRbcc>LimSup_Rbcc):\n",
        "        data['Rbcc'][x]=LimSup_Rbcc\n",
        "        contRbcc=contRbcc+1\n",
        "    elif(datoRbcc<LimInf_Rbcc):\n",
        "        data['Rbcc'][x]=LimInf_Rbcc\n",
        "        contRbcc=contRbcc+1\n",
        "\n",
        "    datoHtn=data['Htn'][x]\n",
        "    if(datoHtn>LimSup_Htn):\n",
        "        data['Htn'][x]=LimSup_Htn\n",
        "        contHtn=contHtn+1\n",
        "    elif(datoHtn<LimInf_Htn):\n",
        "        data['Htn'][x]=LimInf_Htn\n",
        "        contHtn=contHtn+1\n"
      ],
      "metadata": {
        "colab": {
          "base_uri": "https://localhost:8080/"
        },
        "id": "7x6dgiNw1dph",
        "outputId": "0b5953a9-1f28-47d8-9638-1b2877861e81"
      },
      "execution_count": null,
      "outputs": [
        {
          "output_type": "stream",
          "name": "stderr",
          "text": [
            "<ipython-input-121-d13171e200ef>:15: SettingWithCopyWarning: \n",
            "A value is trying to be set on a copy of a slice from a DataFrame\n",
            "\n",
            "See the caveats in the documentation: https://pandas.pydata.org/pandas-docs/stable/user_guide/indexing.html#returning-a-view-versus-a-copy\n",
            "  data['Sg'][x]=LimInf_Sg\n",
            "<ipython-input-121-d13171e200ef>:39: SettingWithCopyWarning: \n",
            "A value is trying to be set on a copy of a slice from a DataFrame\n",
            "\n",
            "See the caveats in the documentation: https://pandas.pydata.org/pandas-docs/stable/user_guide/indexing.html#returning-a-view-versus-a-copy\n",
            "  data['Rbcc'][x]=LimInf_Rbcc\n",
            "<ipython-input-121-d13171e200ef>:36: SettingWithCopyWarning: \n",
            "A value is trying to be set on a copy of a slice from a DataFrame\n",
            "\n",
            "See the caveats in the documentation: https://pandas.pydata.org/pandas-docs/stable/user_guide/indexing.html#returning-a-view-versus-a-copy\n",
            "  data['Rbcc'][x]=LimSup_Rbcc\n",
            "<ipython-input-121-d13171e200ef>:31: SettingWithCopyWarning: \n",
            "A value is trying to be set on a copy of a slice from a DataFrame\n",
            "\n",
            "See the caveats in the documentation: https://pandas.pydata.org/pandas-docs/stable/user_guide/indexing.html#returning-a-view-versus-a-copy\n",
            "  data['Hemo'][x]=LimInf_Hemo\n"
          ]
        }
      ]
    },
    {
      "cell_type": "code",
      "source": [
        "print(\"Cantidad de datos modificados: \")\n",
        "print('Para Sg: ', contSg)\n",
        "print('Para Al: ', contAl)\n",
        "print('Para Hemo: ', contHemo)\n",
        "print('Para Rbcc: ', contRbcc)\n",
        "print('Para Htn: ', contHtn)"
      ],
      "metadata": {
        "colab": {
          "base_uri": "https://localhost:8080/"
        },
        "id": "H4y6WSHL2wND",
        "outputId": "a73f9ece-55e3-4254-be99-6639cf2738d4"
      },
      "execution_count": null,
      "outputs": [
        {
          "output_type": "stream",
          "name": "stdout",
          "text": [
            "Cantidad de datos modificados: \n",
            "Para Sg:  7\n",
            "Para Al:  0\n",
            "Para Hemo:  2\n",
            "Para Rbcc:  75\n",
            "Para Htn:  0\n"
          ]
        }
      ]
    },
    {
      "cell_type": "markdown",
      "source": [
        "#Se realiza la separación del dataset en x (variables que se utilizarán para predecir) y en y (variable que indica la presencia o no presencia de la enfermedad)"
      ],
      "metadata": {
        "id": "-9SSX_vtMnHN"
      }
    },
    {
      "cell_type": "code",
      "source": [
        "x=data[[\"Sg\",\t\"Al\",\t\"Hemo\",\t\"Rbcc\",\t\"Htn\"]] #Filtrado del dataset en x\n",
        "y=data['Class'] #Filtrado del Dataset en y\n",
        "conteo=Counter(y) #Contar cuantos datos pertenecen a cada categoria\n",
        "print(conteo) #Mostrar ese conteo"
      ],
      "metadata": {
        "colab": {
          "base_uri": "https://localhost:8080/"
        },
        "id": "X5vTzqyTM8bI",
        "outputId": "82619f99-ae45-4b22-f1c6-5bd518a6e80c"
      },
      "execution_count": null,
      "outputs": [
        {
          "output_type": "stream",
          "name": "stdout",
          "text": [
            "Counter({1: 250, 0: 150})\n"
          ]
        }
      ]
    },
    {
      "cell_type": "markdown",
      "source": [
        "#Dividir el conjunto de datos para entrenamiento y testeo"
      ],
      "metadata": {
        "id": "ahCmA7RyNss0"
      }
    },
    {
      "cell_type": "markdown",
      "source": [
        "***Para una división de 70% (Entrenamiento) y 30% (Prueba)***"
      ],
      "metadata": {
        "id": "g1DpHVYqNx56"
      }
    },
    {
      "cell_type": "code",
      "source": [
        "x_train_30, x_test_30, y_train_30, y_test_30 = train_test_split(x, y, test_size=0.3, stratify=y, random_state=42)"
      ],
      "metadata": {
        "id": "-DOVpYWUN_NQ"
      },
      "execution_count": null,
      "outputs": []
    },
    {
      "cell_type": "markdown",
      "source": [
        "*Balanceo de Variables*"
      ],
      "metadata": {
        "id": "aj4Uth03a_QB"
      }
    },
    {
      "cell_type": "code",
      "source": [
        "xr_train_30, xr_test_30, yr_train_30, yr_test_30 = train_test_split(x, y, test_size=0.3, stratify=y, random_state=42)\n",
        "print(\"Distibución antes {}\".format(Counter(xr_train_30)))\n",
        "print(\"Distibución antes {}\".format(Counter(xr_test_30)))\n",
        "print(\"Distibución antes {}\".format(Counter(yr_train_30)))\n",
        "print(\"Distibución antes {}\".format(Counter(yr_test_30)))"
      ],
      "metadata": {
        "id": "taqDS2CndMux",
        "colab": {
          "base_uri": "https://localhost:8080/"
        },
        "outputId": "b361f60a-4e5f-497b-dfdf-eb0acec29de8"
      },
      "execution_count": null,
      "outputs": [
        {
          "output_type": "stream",
          "name": "stdout",
          "text": [
            "Distibución antes Counter({'Sg': 1, 'Al': 1, 'Hemo': 1, 'Rbcc': 1, 'Htn': 1})\n",
            "Distibución antes Counter({'Sg': 1, 'Al': 1, 'Hemo': 1, 'Rbcc': 1, 'Htn': 1})\n",
            "Distibución antes Counter({1: 175, 0: 105})\n",
            "Distibución antes Counter({1: 75, 0: 45})\n"
          ]
        }
      ]
    },
    {
      "cell_type": "code",
      "source": [
        "ns=NearMiss(sampling_strategy='auto',n_neighbors=3,version=2)\n",
        "xr_train_30,yr_train_30=ns.fit_resample(xr_train_30, yr_train_30)\n",
        "xr_test_30, yr_test_30=ns.fit_resample(xr_test_30, yr_test_30)\n",
        "\n",
        "print(\"Distibución despues {}\".format(Counter(xr_train_30)))\n",
        "print(\"Distibución despues {}\".format(Counter(xr_test_30)))\n",
        "print(\"Distibución despues {}\".format(Counter(yr_train_30)))\n",
        "print(\"Distibución despues {}\".format(Counter(yr_test_30)))"
      ],
      "metadata": {
        "colab": {
          "base_uri": "https://localhost:8080/"
        },
        "id": "yyntNBtFbCad",
        "outputId": "fcb939c8-2c9a-4b17-eb53-ff9f3be932ad"
      },
      "execution_count": null,
      "outputs": [
        {
          "output_type": "stream",
          "name": "stdout",
          "text": [
            "Distibución despues Counter({'Sg': 1, 'Al': 1, 'Hemo': 1, 'Rbcc': 1, 'Htn': 1})\n",
            "Distibución despues Counter({'Sg': 1, 'Al': 1, 'Hemo': 1, 'Rbcc': 1, 'Htn': 1})\n",
            "Distibución despues Counter({0: 105, 1: 105})\n",
            "Distibución despues Counter({0: 45, 1: 45})\n"
          ]
        }
      ]
    },
    {
      "cell_type": "markdown",
      "source": [
        "#Se crea un clasificador base"
      ],
      "metadata": {
        "id": "VYGMl6FbOjGi"
      }
    },
    {
      "cell_type": "markdown",
      "source": [
        "AdaBoostClassifier es un algoritmo de aprendizaje automático que pertenece a la familia de métodos de ensamble. Su objetivo principal es mejorar la precisión de los modelos de aprendizaje débil (también conocidos como \"weak learners\" o \"aprendices débiles\") al combinarlos para formar un modelo fuerte."
      ],
      "metadata": {
        "id": "XqCYw7I6Oqux"
      }
    },
    {
      "cell_type": "markdown",
      "source": [
        "En este caso se utilizará el clasificador DecisionTreeClassifier"
      ],
      "metadata": {
        "id": "VtMGPOb5O4uf"
      }
    },
    {
      "cell_type": "code",
      "source": [
        "clasificador_base = DecisionTreeClassifier(max_depth=1)"
      ],
      "metadata": {
        "id": "yR38qrsIPAWA"
      },
      "execution_count": null,
      "outputs": []
    },
    {
      "cell_type": "markdown",
      "source": [
        "#Se crea el modelo"
      ],
      "metadata": {
        "id": "dF3pwvavPOON"
      }
    },
    {
      "cell_type": "markdown",
      "source": [
        "n_estimators: Número de clasificadores débiles (o estimadores) que se van a entrenar. Cuantos más estimadores, más complejo puede volverse el modelo. Sin embargo, un número demasiado grande puede llevar al sobreajuste."
      ],
      "metadata": {
        "id": "26xjxnkKPctq"
      }
    },
    {
      "cell_type": "code",
      "source": [
        "adaboost_classifier = AdaBoostClassifier(clasificador_base, n_estimators=50, random_state=42)"
      ],
      "metadata": {
        "id": "tV3rfjYhPP4r"
      },
      "execution_count": null,
      "outputs": []
    },
    {
      "cell_type": "markdown",
      "source": [
        "***Para las variables balanceadas***"
      ],
      "metadata": {
        "id": "WstbWYnMdXg1"
      }
    },
    {
      "cell_type": "code",
      "source": [
        "adaboost_classifier_r = AdaBoostClassifier(clasificador_base, n_estimators=50, random_state=42)"
      ],
      "metadata": {
        "id": "HXGpv8EeddfY"
      },
      "execution_count": null,
      "outputs": []
    },
    {
      "cell_type": "markdown",
      "source": [
        "#Entrenamiento del Modelo"
      ],
      "metadata": {
        "id": "gp2qm6dxPuR8"
      }
    },
    {
      "cell_type": "code",
      "source": [
        "adaboost_classifier.fit(x_train_30, y_train_30)"
      ],
      "metadata": {
        "colab": {
          "base_uri": "https://localhost:8080/",
          "height": 117
        },
        "id": "4YyuHi8dPxKV",
        "outputId": "eb99dc58-b80e-450e-8121-c888164be0aa"
      },
      "execution_count": null,
      "outputs": [
        {
          "output_type": "execute_result",
          "data": {
            "text/plain": [
              "AdaBoostClassifier(estimator=DecisionTreeClassifier(max_depth=1),\n",
              "                   random_state=42)"
            ],
            "text/html": [
              "<style>#sk-container-id-9 {color: black;background-color: white;}#sk-container-id-9 pre{padding: 0;}#sk-container-id-9 div.sk-toggleable {background-color: white;}#sk-container-id-9 label.sk-toggleable__label {cursor: pointer;display: block;width: 100%;margin-bottom: 0;padding: 0.3em;box-sizing: border-box;text-align: center;}#sk-container-id-9 label.sk-toggleable__label-arrow:before {content: \"▸\";float: left;margin-right: 0.25em;color: #696969;}#sk-container-id-9 label.sk-toggleable__label-arrow:hover:before {color: black;}#sk-container-id-9 div.sk-estimator:hover label.sk-toggleable__label-arrow:before {color: black;}#sk-container-id-9 div.sk-toggleable__content {max-height: 0;max-width: 0;overflow: hidden;text-align: left;background-color: #f0f8ff;}#sk-container-id-9 div.sk-toggleable__content pre {margin: 0.2em;color: black;border-radius: 0.25em;background-color: #f0f8ff;}#sk-container-id-9 input.sk-toggleable__control:checked~div.sk-toggleable__content {max-height: 200px;max-width: 100%;overflow: auto;}#sk-container-id-9 input.sk-toggleable__control:checked~label.sk-toggleable__label-arrow:before {content: \"▾\";}#sk-container-id-9 div.sk-estimator input.sk-toggleable__control:checked~label.sk-toggleable__label {background-color: #d4ebff;}#sk-container-id-9 div.sk-label input.sk-toggleable__control:checked~label.sk-toggleable__label {background-color: #d4ebff;}#sk-container-id-9 input.sk-hidden--visually {border: 0;clip: rect(1px 1px 1px 1px);clip: rect(1px, 1px, 1px, 1px);height: 1px;margin: -1px;overflow: hidden;padding: 0;position: absolute;width: 1px;}#sk-container-id-9 div.sk-estimator {font-family: monospace;background-color: #f0f8ff;border: 1px dotted black;border-radius: 0.25em;box-sizing: border-box;margin-bottom: 0.5em;}#sk-container-id-9 div.sk-estimator:hover {background-color: #d4ebff;}#sk-container-id-9 div.sk-parallel-item::after {content: \"\";width: 100%;border-bottom: 1px solid gray;flex-grow: 1;}#sk-container-id-9 div.sk-label:hover label.sk-toggleable__label {background-color: #d4ebff;}#sk-container-id-9 div.sk-serial::before {content: \"\";position: absolute;border-left: 1px solid gray;box-sizing: border-box;top: 0;bottom: 0;left: 50%;z-index: 0;}#sk-container-id-9 div.sk-serial {display: flex;flex-direction: column;align-items: center;background-color: white;padding-right: 0.2em;padding-left: 0.2em;position: relative;}#sk-container-id-9 div.sk-item {position: relative;z-index: 1;}#sk-container-id-9 div.sk-parallel {display: flex;align-items: stretch;justify-content: center;background-color: white;position: relative;}#sk-container-id-9 div.sk-item::before, #sk-container-id-9 div.sk-parallel-item::before {content: \"\";position: absolute;border-left: 1px solid gray;box-sizing: border-box;top: 0;bottom: 0;left: 50%;z-index: -1;}#sk-container-id-9 div.sk-parallel-item {display: flex;flex-direction: column;z-index: 1;position: relative;background-color: white;}#sk-container-id-9 div.sk-parallel-item:first-child::after {align-self: flex-end;width: 50%;}#sk-container-id-9 div.sk-parallel-item:last-child::after {align-self: flex-start;width: 50%;}#sk-container-id-9 div.sk-parallel-item:only-child::after {width: 0;}#sk-container-id-9 div.sk-dashed-wrapped {border: 1px dashed gray;margin: 0 0.4em 0.5em 0.4em;box-sizing: border-box;padding-bottom: 0.4em;background-color: white;}#sk-container-id-9 div.sk-label label {font-family: monospace;font-weight: bold;display: inline-block;line-height: 1.2em;}#sk-container-id-9 div.sk-label-container {text-align: center;}#sk-container-id-9 div.sk-container {/* jupyter's `normalize.less` sets `[hidden] { display: none; }` but bootstrap.min.css set `[hidden] { display: none !important; }` so we also need the `!important` here to be able to override the default hidden behavior on the sphinx rendered scikit-learn.org. See: https://github.com/scikit-learn/scikit-learn/issues/21755 */display: inline-block !important;position: relative;}#sk-container-id-9 div.sk-text-repr-fallback {display: none;}</style><div id=\"sk-container-id-9\" class=\"sk-top-container\"><div class=\"sk-text-repr-fallback\"><pre>AdaBoostClassifier(estimator=DecisionTreeClassifier(max_depth=1),\n",
              "                   random_state=42)</pre><b>In a Jupyter environment, please rerun this cell to show the HTML representation or trust the notebook. <br />On GitHub, the HTML representation is unable to render, please try loading this page with nbviewer.org.</b></div><div class=\"sk-container\" hidden><div class=\"sk-item sk-dashed-wrapped\"><div class=\"sk-label-container\"><div class=\"sk-label sk-toggleable\"><input class=\"sk-toggleable__control sk-hidden--visually\" id=\"sk-estimator-id-29\" type=\"checkbox\" ><label for=\"sk-estimator-id-29\" class=\"sk-toggleable__label sk-toggleable__label-arrow\">AdaBoostClassifier</label><div class=\"sk-toggleable__content\"><pre>AdaBoostClassifier(estimator=DecisionTreeClassifier(max_depth=1),\n",
              "                   random_state=42)</pre></div></div></div><div class=\"sk-parallel\"><div class=\"sk-parallel-item\"><div class=\"sk-item\"><div class=\"sk-label-container\"><div class=\"sk-label sk-toggleable\"><input class=\"sk-toggleable__control sk-hidden--visually\" id=\"sk-estimator-id-30\" type=\"checkbox\" ><label for=\"sk-estimator-id-30\" class=\"sk-toggleable__label sk-toggleable__label-arrow\">estimator: DecisionTreeClassifier</label><div class=\"sk-toggleable__content\"><pre>DecisionTreeClassifier(max_depth=1)</pre></div></div></div><div class=\"sk-serial\"><div class=\"sk-item\"><div class=\"sk-estimator sk-toggleable\"><input class=\"sk-toggleable__control sk-hidden--visually\" id=\"sk-estimator-id-31\" type=\"checkbox\" ><label for=\"sk-estimator-id-31\" class=\"sk-toggleable__label sk-toggleable__label-arrow\">DecisionTreeClassifier</label><div class=\"sk-toggleable__content\"><pre>DecisionTreeClassifier(max_depth=1)</pre></div></div></div></div></div></div></div></div></div></div>"
            ]
          },
          "metadata": {},
          "execution_count": 130
        }
      ]
    },
    {
      "cell_type": "markdown",
      "source": [
        "***Para las variables balanceadas***"
      ],
      "metadata": {
        "id": "nqF_8BqZdo8b"
      }
    },
    {
      "cell_type": "code",
      "source": [
        "adaboost_classifier_r.fit(xr_train_30, yr_train_30)"
      ],
      "metadata": {
        "colab": {
          "base_uri": "https://localhost:8080/",
          "height": 117
        },
        "id": "BRZBgLVOduhV",
        "outputId": "98c17597-b215-4223-af92-c7bdabd88fd4"
      },
      "execution_count": null,
      "outputs": [
        {
          "output_type": "execute_result",
          "data": {
            "text/plain": [
              "AdaBoostClassifier(estimator=DecisionTreeClassifier(max_depth=1),\n",
              "                   random_state=42)"
            ],
            "text/html": [
              "<style>#sk-container-id-10 {color: black;background-color: white;}#sk-container-id-10 pre{padding: 0;}#sk-container-id-10 div.sk-toggleable {background-color: white;}#sk-container-id-10 label.sk-toggleable__label {cursor: pointer;display: block;width: 100%;margin-bottom: 0;padding: 0.3em;box-sizing: border-box;text-align: center;}#sk-container-id-10 label.sk-toggleable__label-arrow:before {content: \"▸\";float: left;margin-right: 0.25em;color: #696969;}#sk-container-id-10 label.sk-toggleable__label-arrow:hover:before {color: black;}#sk-container-id-10 div.sk-estimator:hover label.sk-toggleable__label-arrow:before {color: black;}#sk-container-id-10 div.sk-toggleable__content {max-height: 0;max-width: 0;overflow: hidden;text-align: left;background-color: #f0f8ff;}#sk-container-id-10 div.sk-toggleable__content pre {margin: 0.2em;color: black;border-radius: 0.25em;background-color: #f0f8ff;}#sk-container-id-10 input.sk-toggleable__control:checked~div.sk-toggleable__content {max-height: 200px;max-width: 100%;overflow: auto;}#sk-container-id-10 input.sk-toggleable__control:checked~label.sk-toggleable__label-arrow:before {content: \"▾\";}#sk-container-id-10 div.sk-estimator input.sk-toggleable__control:checked~label.sk-toggleable__label {background-color: #d4ebff;}#sk-container-id-10 div.sk-label input.sk-toggleable__control:checked~label.sk-toggleable__label {background-color: #d4ebff;}#sk-container-id-10 input.sk-hidden--visually {border: 0;clip: rect(1px 1px 1px 1px);clip: rect(1px, 1px, 1px, 1px);height: 1px;margin: -1px;overflow: hidden;padding: 0;position: absolute;width: 1px;}#sk-container-id-10 div.sk-estimator {font-family: monospace;background-color: #f0f8ff;border: 1px dotted black;border-radius: 0.25em;box-sizing: border-box;margin-bottom: 0.5em;}#sk-container-id-10 div.sk-estimator:hover {background-color: #d4ebff;}#sk-container-id-10 div.sk-parallel-item::after {content: \"\";width: 100%;border-bottom: 1px solid gray;flex-grow: 1;}#sk-container-id-10 div.sk-label:hover label.sk-toggleable__label {background-color: #d4ebff;}#sk-container-id-10 div.sk-serial::before {content: \"\";position: absolute;border-left: 1px solid gray;box-sizing: border-box;top: 0;bottom: 0;left: 50%;z-index: 0;}#sk-container-id-10 div.sk-serial {display: flex;flex-direction: column;align-items: center;background-color: white;padding-right: 0.2em;padding-left: 0.2em;position: relative;}#sk-container-id-10 div.sk-item {position: relative;z-index: 1;}#sk-container-id-10 div.sk-parallel {display: flex;align-items: stretch;justify-content: center;background-color: white;position: relative;}#sk-container-id-10 div.sk-item::before, #sk-container-id-10 div.sk-parallel-item::before {content: \"\";position: absolute;border-left: 1px solid gray;box-sizing: border-box;top: 0;bottom: 0;left: 50%;z-index: -1;}#sk-container-id-10 div.sk-parallel-item {display: flex;flex-direction: column;z-index: 1;position: relative;background-color: white;}#sk-container-id-10 div.sk-parallel-item:first-child::after {align-self: flex-end;width: 50%;}#sk-container-id-10 div.sk-parallel-item:last-child::after {align-self: flex-start;width: 50%;}#sk-container-id-10 div.sk-parallel-item:only-child::after {width: 0;}#sk-container-id-10 div.sk-dashed-wrapped {border: 1px dashed gray;margin: 0 0.4em 0.5em 0.4em;box-sizing: border-box;padding-bottom: 0.4em;background-color: white;}#sk-container-id-10 div.sk-label label {font-family: monospace;font-weight: bold;display: inline-block;line-height: 1.2em;}#sk-container-id-10 div.sk-label-container {text-align: center;}#sk-container-id-10 div.sk-container {/* jupyter's `normalize.less` sets `[hidden] { display: none; }` but bootstrap.min.css set `[hidden] { display: none !important; }` so we also need the `!important` here to be able to override the default hidden behavior on the sphinx rendered scikit-learn.org. See: https://github.com/scikit-learn/scikit-learn/issues/21755 */display: inline-block !important;position: relative;}#sk-container-id-10 div.sk-text-repr-fallback {display: none;}</style><div id=\"sk-container-id-10\" class=\"sk-top-container\"><div class=\"sk-text-repr-fallback\"><pre>AdaBoostClassifier(estimator=DecisionTreeClassifier(max_depth=1),\n",
              "                   random_state=42)</pre><b>In a Jupyter environment, please rerun this cell to show the HTML representation or trust the notebook. <br />On GitHub, the HTML representation is unable to render, please try loading this page with nbviewer.org.</b></div><div class=\"sk-container\" hidden><div class=\"sk-item sk-dashed-wrapped\"><div class=\"sk-label-container\"><div class=\"sk-label sk-toggleable\"><input class=\"sk-toggleable__control sk-hidden--visually\" id=\"sk-estimator-id-32\" type=\"checkbox\" ><label for=\"sk-estimator-id-32\" class=\"sk-toggleable__label sk-toggleable__label-arrow\">AdaBoostClassifier</label><div class=\"sk-toggleable__content\"><pre>AdaBoostClassifier(estimator=DecisionTreeClassifier(max_depth=1),\n",
              "                   random_state=42)</pre></div></div></div><div class=\"sk-parallel\"><div class=\"sk-parallel-item\"><div class=\"sk-item\"><div class=\"sk-label-container\"><div class=\"sk-label sk-toggleable\"><input class=\"sk-toggleable__control sk-hidden--visually\" id=\"sk-estimator-id-33\" type=\"checkbox\" ><label for=\"sk-estimator-id-33\" class=\"sk-toggleable__label sk-toggleable__label-arrow\">estimator: DecisionTreeClassifier</label><div class=\"sk-toggleable__content\"><pre>DecisionTreeClassifier(max_depth=1)</pre></div></div></div><div class=\"sk-serial\"><div class=\"sk-item\"><div class=\"sk-estimator sk-toggleable\"><input class=\"sk-toggleable__control sk-hidden--visually\" id=\"sk-estimator-id-34\" type=\"checkbox\" ><label for=\"sk-estimator-id-34\" class=\"sk-toggleable__label sk-toggleable__label-arrow\">DecisionTreeClassifier</label><div class=\"sk-toggleable__content\"><pre>DecisionTreeClassifier(max_depth=1)</pre></div></div></div></div></div></div></div></div></div></div>"
            ]
          },
          "metadata": {},
          "execution_count": 131
        }
      ]
    },
    {
      "cell_type": "markdown",
      "source": [
        "#Se realizan las predicciones de prueba"
      ],
      "metadata": {
        "id": "jEquTOd2P9WC"
      }
    },
    {
      "cell_type": "code",
      "source": [
        "y_pred_30 = adaboost_classifier.predict(x_test_30)"
      ],
      "metadata": {
        "id": "nBVrzAloP_oS"
      },
      "execution_count": null,
      "outputs": []
    },
    {
      "cell_type": "markdown",
      "source": [
        "***Para las variables balanceadas***"
      ],
      "metadata": {
        "id": "zb94_3ghdzvC"
      }
    },
    {
      "cell_type": "code",
      "source": [
        "y_pred_30_r = adaboost_classifier_r.predict(xr_test_30)"
      ],
      "metadata": {
        "id": "bXLphfeLd22s"
      },
      "execution_count": null,
      "outputs": []
    },
    {
      "cell_type": "markdown",
      "source": [
        "#Se evalua el modelo"
      ],
      "metadata": {
        "id": "N5mVO_1FQFKr"
      }
    },
    {
      "cell_type": "code",
      "source": [
        "# Calcular métricas\n",
        "accuracy_1 = accuracy_score(y_test_30, y_pred_30)\n",
        "balanced_accuracy_1 = balanced_accuracy_score(y_test_30, y_pred_30)\n",
        "recall_1 = recall_score(y_test_30, y_pred_30)\n",
        "f1_1 = f1_score(y_test_30, y_pred_30)\n",
        "\n",
        "# Imprimir los resultados\n",
        "print(f'Accuracy: {accuracy_1}')\n",
        "print(f'Balanced Accuracy: {balanced_accuracy_1}')\n",
        "print(f'Recall: {recall_1}')\n",
        "print(f'F1-Score: {f1_1}')"
      ],
      "metadata": {
        "colab": {
          "base_uri": "https://localhost:8080/"
        },
        "id": "jFwwlL5jQG5q",
        "outputId": "e14671ba-16ac-404b-db22-354d21d0c508"
      },
      "execution_count": null,
      "outputs": [
        {
          "output_type": "stream",
          "name": "stdout",
          "text": [
            "Accuracy: 0.9833333333333333\n",
            "Balanced Accuracy: 0.9866666666666667\n",
            "Recall: 0.9733333333333334\n",
            "F1-Score: 0.9864864864864865\n"
          ]
        }
      ]
    },
    {
      "cell_type": "markdown",
      "source": [
        "***Para las variables balanceadas***"
      ],
      "metadata": {
        "id": "3d3I5zP5d8Af"
      }
    },
    {
      "cell_type": "code",
      "source": [
        "# Calcular métricas\n",
        "accuracy_1_r = accuracy_score(yr_test_30, y_pred_30_r)\n",
        "balanced_accuracy_1_r = balanced_accuracy_score(yr_test_30, y_pred_30_r)\n",
        "recall_1_r = recall_score(yr_test_30, y_pred_30_r)\n",
        "f1_1_r = f1_score(yr_test_30, y_pred_30_r)\n",
        "\n",
        "# Imprimir los resultados\n",
        "print(f'Accuracy: {accuracy_1_r}')\n",
        "print(f'Balanced Accuracy: {balanced_accuracy_1_r}')\n",
        "print(f'Recall: {recall_1_r}')\n",
        "print(f'F1-Score: {f1_1_r}')"
      ],
      "metadata": {
        "colab": {
          "base_uri": "https://localhost:8080/"
        },
        "id": "Ft761UdqeAnz",
        "outputId": "0bcb3fb1-b043-49a0-abe4-bde5744f1ab6"
      },
      "execution_count": null,
      "outputs": [
        {
          "output_type": "stream",
          "name": "stdout",
          "text": [
            "Accuracy: 0.9777777777777777\n",
            "Balanced Accuracy: 0.9777777777777779\n",
            "Recall: 0.9555555555555556\n",
            "F1-Score: 0.9772727272727273\n"
          ]
        }
      ]
    },
    {
      "cell_type": "markdown",
      "source": [
        "#Tratar de mejorar el rendimiento:"
      ],
      "metadata": {
        "id": "2ZAifgXORgpu"
      }
    },
    {
      "cell_type": "markdown",
      "source": [
        "*Creación del modelo a mejorar*"
      ],
      "metadata": {
        "id": "7m-cQqkTSHUD"
      }
    },
    {
      "cell_type": "code",
      "source": [
        "adaboost_classifier_2 = AdaBoostClassifier(clasificador_base, random_state=42)"
      ],
      "metadata": {
        "id": "EgxgTo-dSKoV"
      },
      "execution_count": null,
      "outputs": []
    },
    {
      "cell_type": "markdown",
      "source": [
        "*Definir los hiperparametros a buscar*"
      ],
      "metadata": {
        "id": "pXGlYnV3SSre"
      }
    },
    {
      "cell_type": "markdown",
      "source": [
        "learning_rate: Factor de ponderación aplicado a cada clasificador débil. Controla la contribución de cada clasificador al modelo final. Valores más bajos generalmente requieren más estimadores para alcanzar la misma precisión."
      ],
      "metadata": {
        "id": "20VSktpNSlBx"
      }
    },
    {
      "cell_type": "code",
      "source": [
        "parametros = {\n",
        "    'n_estimators': [50, 100, 200],\n",
        "    'learning_rate': [0.01, 0.1, 0.5, 1.0],\n",
        "}"
      ],
      "metadata": {
        "id": "eM1YXRzDSaBO"
      },
      "execution_count": null,
      "outputs": []
    },
    {
      "cell_type": "markdown",
      "source": [
        "*Definición de las métricas a evaluar*"
      ],
      "metadata": {
        "id": "CXEzpUliTUeU"
      }
    },
    {
      "cell_type": "code",
      "source": [
        "scoring = ['accuracy', 'precision', 'recall', 'f1']"
      ],
      "metadata": {
        "id": "j4Npgd9BTZla"
      },
      "execution_count": null,
      "outputs": []
    },
    {
      "cell_type": "markdown",
      "source": [
        "*Busqueda mediante la validación cruzada*"
      ],
      "metadata": {
        "id": "0OPmUMtPStab"
      }
    },
    {
      "cell_type": "markdown",
      "source": [
        "cv=5: Este parámetro especifica el número de pliegues (folds) en la validación cruzada. En este caso, se está utilizando una validación cruzada de 5 pliegues, lo que significa que los datos se dividen en 5 partes, y el modelo se entrena y evalúa 5 veces, utilizando combinaciones diferentes de conjuntos de entrenamiento y prueba.\n",
        "La línea refit='accuracy' en GridSearchCV indica que después de realizar la búsqueda de cuadrícula y encontrar los mejores hiperparámetros, el estimador se ajustará nuevamente utilizando el conjunto de datos completo utilizando la métrica especificada ('accuracy' en este caso). Es decir, el modelo final que se devolverá como resultado de la búsqueda de cuadrícula se ajustará a todo el conjunto de datos de entrenamiento utilizando los mejores hiperparámetros encontrados y la métrica de precisión ('accuracy')."
      ],
      "metadata": {
        "id": "bP0lGofkTDRH"
      }
    },
    {
      "cell_type": "code",
      "source": [
        "busqueda = GridSearchCV(adaboost_classifier_2, parametros, cv=5, scoring=scoring, refit='accuracy') #Creación de la busqueda\n",
        "busqueda.fit(x_train_30,y_train_30) #Busqueda en los datos"
      ],
      "metadata": {
        "colab": {
          "base_uri": "https://localhost:8080/",
          "height": 157
        },
        "id": "_DJK4JUVSuAw",
        "outputId": "52786207-c33e-42cb-9d1a-687e6bf2eef3"
      },
      "execution_count": null,
      "outputs": [
        {
          "output_type": "execute_result",
          "data": {
            "text/plain": [
              "GridSearchCV(cv=5,\n",
              "             estimator=AdaBoostClassifier(estimator=DecisionTreeClassifier(max_depth=1),\n",
              "                                          random_state=42),\n",
              "             param_grid={'learning_rate': [0.01, 0.1, 0.5, 1.0],\n",
              "                         'n_estimators': [50, 100, 200]},\n",
              "             refit='accuracy',\n",
              "             scoring=['accuracy', 'precision', 'recall', 'f1'])"
            ],
            "text/html": [
              "<style>#sk-container-id-11 {color: black;background-color: white;}#sk-container-id-11 pre{padding: 0;}#sk-container-id-11 div.sk-toggleable {background-color: white;}#sk-container-id-11 label.sk-toggleable__label {cursor: pointer;display: block;width: 100%;margin-bottom: 0;padding: 0.3em;box-sizing: border-box;text-align: center;}#sk-container-id-11 label.sk-toggleable__label-arrow:before {content: \"▸\";float: left;margin-right: 0.25em;color: #696969;}#sk-container-id-11 label.sk-toggleable__label-arrow:hover:before {color: black;}#sk-container-id-11 div.sk-estimator:hover label.sk-toggleable__label-arrow:before {color: black;}#sk-container-id-11 div.sk-toggleable__content {max-height: 0;max-width: 0;overflow: hidden;text-align: left;background-color: #f0f8ff;}#sk-container-id-11 div.sk-toggleable__content pre {margin: 0.2em;color: black;border-radius: 0.25em;background-color: #f0f8ff;}#sk-container-id-11 input.sk-toggleable__control:checked~div.sk-toggleable__content {max-height: 200px;max-width: 100%;overflow: auto;}#sk-container-id-11 input.sk-toggleable__control:checked~label.sk-toggleable__label-arrow:before {content: \"▾\";}#sk-container-id-11 div.sk-estimator input.sk-toggleable__control:checked~label.sk-toggleable__label {background-color: #d4ebff;}#sk-container-id-11 div.sk-label input.sk-toggleable__control:checked~label.sk-toggleable__label {background-color: #d4ebff;}#sk-container-id-11 input.sk-hidden--visually {border: 0;clip: rect(1px 1px 1px 1px);clip: rect(1px, 1px, 1px, 1px);height: 1px;margin: -1px;overflow: hidden;padding: 0;position: absolute;width: 1px;}#sk-container-id-11 div.sk-estimator {font-family: monospace;background-color: #f0f8ff;border: 1px dotted black;border-radius: 0.25em;box-sizing: border-box;margin-bottom: 0.5em;}#sk-container-id-11 div.sk-estimator:hover {background-color: #d4ebff;}#sk-container-id-11 div.sk-parallel-item::after {content: \"\";width: 100%;border-bottom: 1px solid gray;flex-grow: 1;}#sk-container-id-11 div.sk-label:hover label.sk-toggleable__label {background-color: #d4ebff;}#sk-container-id-11 div.sk-serial::before {content: \"\";position: absolute;border-left: 1px solid gray;box-sizing: border-box;top: 0;bottom: 0;left: 50%;z-index: 0;}#sk-container-id-11 div.sk-serial {display: flex;flex-direction: column;align-items: center;background-color: white;padding-right: 0.2em;padding-left: 0.2em;position: relative;}#sk-container-id-11 div.sk-item {position: relative;z-index: 1;}#sk-container-id-11 div.sk-parallel {display: flex;align-items: stretch;justify-content: center;background-color: white;position: relative;}#sk-container-id-11 div.sk-item::before, #sk-container-id-11 div.sk-parallel-item::before {content: \"\";position: absolute;border-left: 1px solid gray;box-sizing: border-box;top: 0;bottom: 0;left: 50%;z-index: -1;}#sk-container-id-11 div.sk-parallel-item {display: flex;flex-direction: column;z-index: 1;position: relative;background-color: white;}#sk-container-id-11 div.sk-parallel-item:first-child::after {align-self: flex-end;width: 50%;}#sk-container-id-11 div.sk-parallel-item:last-child::after {align-self: flex-start;width: 50%;}#sk-container-id-11 div.sk-parallel-item:only-child::after {width: 0;}#sk-container-id-11 div.sk-dashed-wrapped {border: 1px dashed gray;margin: 0 0.4em 0.5em 0.4em;box-sizing: border-box;padding-bottom: 0.4em;background-color: white;}#sk-container-id-11 div.sk-label label {font-family: monospace;font-weight: bold;display: inline-block;line-height: 1.2em;}#sk-container-id-11 div.sk-label-container {text-align: center;}#sk-container-id-11 div.sk-container {/* jupyter's `normalize.less` sets `[hidden] { display: none; }` but bootstrap.min.css set `[hidden] { display: none !important; }` so we also need the `!important` here to be able to override the default hidden behavior on the sphinx rendered scikit-learn.org. See: https://github.com/scikit-learn/scikit-learn/issues/21755 */display: inline-block !important;position: relative;}#sk-container-id-11 div.sk-text-repr-fallback {display: none;}</style><div id=\"sk-container-id-11\" class=\"sk-top-container\"><div class=\"sk-text-repr-fallback\"><pre>GridSearchCV(cv=5,\n",
              "             estimator=AdaBoostClassifier(estimator=DecisionTreeClassifier(max_depth=1),\n",
              "                                          random_state=42),\n",
              "             param_grid={&#x27;learning_rate&#x27;: [0.01, 0.1, 0.5, 1.0],\n",
              "                         &#x27;n_estimators&#x27;: [50, 100, 200]},\n",
              "             refit=&#x27;accuracy&#x27;,\n",
              "             scoring=[&#x27;accuracy&#x27;, &#x27;precision&#x27;, &#x27;recall&#x27;, &#x27;f1&#x27;])</pre><b>In a Jupyter environment, please rerun this cell to show the HTML representation or trust the notebook. <br />On GitHub, the HTML representation is unable to render, please try loading this page with nbviewer.org.</b></div><div class=\"sk-container\" hidden><div class=\"sk-item sk-dashed-wrapped\"><div class=\"sk-label-container\"><div class=\"sk-label sk-toggleable\"><input class=\"sk-toggleable__control sk-hidden--visually\" id=\"sk-estimator-id-35\" type=\"checkbox\" ><label for=\"sk-estimator-id-35\" class=\"sk-toggleable__label sk-toggleable__label-arrow\">GridSearchCV</label><div class=\"sk-toggleable__content\"><pre>GridSearchCV(cv=5,\n",
              "             estimator=AdaBoostClassifier(estimator=DecisionTreeClassifier(max_depth=1),\n",
              "                                          random_state=42),\n",
              "             param_grid={&#x27;learning_rate&#x27;: [0.01, 0.1, 0.5, 1.0],\n",
              "                         &#x27;n_estimators&#x27;: [50, 100, 200]},\n",
              "             refit=&#x27;accuracy&#x27;,\n",
              "             scoring=[&#x27;accuracy&#x27;, &#x27;precision&#x27;, &#x27;recall&#x27;, &#x27;f1&#x27;])</pre></div></div></div><div class=\"sk-parallel\"><div class=\"sk-parallel-item\"><div class=\"sk-item\"><div class=\"sk-label-container\"><div class=\"sk-label sk-toggleable\"><input class=\"sk-toggleable__control sk-hidden--visually\" id=\"sk-estimator-id-36\" type=\"checkbox\" ><label for=\"sk-estimator-id-36\" class=\"sk-toggleable__label sk-toggleable__label-arrow\">estimator: AdaBoostClassifier</label><div class=\"sk-toggleable__content\"><pre>AdaBoostClassifier(estimator=DecisionTreeClassifier(max_depth=1),\n",
              "                   random_state=42)</pre></div></div></div><div class=\"sk-serial\"><div class=\"sk-item sk-dashed-wrapped\"><div class=\"sk-parallel\"><div class=\"sk-parallel-item\"><div class=\"sk-item\"><div class=\"sk-label-container\"><div class=\"sk-label sk-toggleable\"><input class=\"sk-toggleable__control sk-hidden--visually\" id=\"sk-estimator-id-37\" type=\"checkbox\" ><label for=\"sk-estimator-id-37\" class=\"sk-toggleable__label sk-toggleable__label-arrow\">estimator: DecisionTreeClassifier</label><div class=\"sk-toggleable__content\"><pre>DecisionTreeClassifier(max_depth=1)</pre></div></div></div><div class=\"sk-serial\"><div class=\"sk-item\"><div class=\"sk-estimator sk-toggleable\"><input class=\"sk-toggleable__control sk-hidden--visually\" id=\"sk-estimator-id-38\" type=\"checkbox\" ><label for=\"sk-estimator-id-38\" class=\"sk-toggleable__label sk-toggleable__label-arrow\">DecisionTreeClassifier</label><div class=\"sk-toggleable__content\"><pre>DecisionTreeClassifier(max_depth=1)</pre></div></div></div></div></div></div></div></div></div></div></div></div></div></div></div>"
            ]
          },
          "metadata": {},
          "execution_count": 139
        }
      ]
    },
    {
      "cell_type": "markdown",
      "source": [
        "***Para las variables balanceadas***"
      ],
      "metadata": {
        "id": "Ba5QL37Xeb3H"
      }
    },
    {
      "cell_type": "code",
      "source": [
        "busqueda_2 = GridSearchCV(adaboost_classifier_2, parametros, cv=5, scoring=scoring, refit='accuracy') #Creación de la busqueda\n",
        "busqueda_2.fit(xr_train_30,yr_train_30) #Busqueda en los datos"
      ],
      "metadata": {
        "colab": {
          "base_uri": "https://localhost:8080/",
          "height": 157
        },
        "id": "qnE5jmvRefdX",
        "outputId": "4879e221-c7a6-454b-9b8a-5872b1490847"
      },
      "execution_count": null,
      "outputs": [
        {
          "output_type": "execute_result",
          "data": {
            "text/plain": [
              "GridSearchCV(cv=5,\n",
              "             estimator=AdaBoostClassifier(estimator=DecisionTreeClassifier(max_depth=1),\n",
              "                                          random_state=42),\n",
              "             param_grid={'learning_rate': [0.01, 0.1, 0.5, 1.0],\n",
              "                         'n_estimators': [50, 100, 200]},\n",
              "             refit='accuracy',\n",
              "             scoring=['accuracy', 'precision', 'recall', 'f1'])"
            ],
            "text/html": [
              "<style>#sk-container-id-12 {color: black;background-color: white;}#sk-container-id-12 pre{padding: 0;}#sk-container-id-12 div.sk-toggleable {background-color: white;}#sk-container-id-12 label.sk-toggleable__label {cursor: pointer;display: block;width: 100%;margin-bottom: 0;padding: 0.3em;box-sizing: border-box;text-align: center;}#sk-container-id-12 label.sk-toggleable__label-arrow:before {content: \"▸\";float: left;margin-right: 0.25em;color: #696969;}#sk-container-id-12 label.sk-toggleable__label-arrow:hover:before {color: black;}#sk-container-id-12 div.sk-estimator:hover label.sk-toggleable__label-arrow:before {color: black;}#sk-container-id-12 div.sk-toggleable__content {max-height: 0;max-width: 0;overflow: hidden;text-align: left;background-color: #f0f8ff;}#sk-container-id-12 div.sk-toggleable__content pre {margin: 0.2em;color: black;border-radius: 0.25em;background-color: #f0f8ff;}#sk-container-id-12 input.sk-toggleable__control:checked~div.sk-toggleable__content {max-height: 200px;max-width: 100%;overflow: auto;}#sk-container-id-12 input.sk-toggleable__control:checked~label.sk-toggleable__label-arrow:before {content: \"▾\";}#sk-container-id-12 div.sk-estimator input.sk-toggleable__control:checked~label.sk-toggleable__label {background-color: #d4ebff;}#sk-container-id-12 div.sk-label input.sk-toggleable__control:checked~label.sk-toggleable__label {background-color: #d4ebff;}#sk-container-id-12 input.sk-hidden--visually {border: 0;clip: rect(1px 1px 1px 1px);clip: rect(1px, 1px, 1px, 1px);height: 1px;margin: -1px;overflow: hidden;padding: 0;position: absolute;width: 1px;}#sk-container-id-12 div.sk-estimator {font-family: monospace;background-color: #f0f8ff;border: 1px dotted black;border-radius: 0.25em;box-sizing: border-box;margin-bottom: 0.5em;}#sk-container-id-12 div.sk-estimator:hover {background-color: #d4ebff;}#sk-container-id-12 div.sk-parallel-item::after {content: \"\";width: 100%;border-bottom: 1px solid gray;flex-grow: 1;}#sk-container-id-12 div.sk-label:hover label.sk-toggleable__label {background-color: #d4ebff;}#sk-container-id-12 div.sk-serial::before {content: \"\";position: absolute;border-left: 1px solid gray;box-sizing: border-box;top: 0;bottom: 0;left: 50%;z-index: 0;}#sk-container-id-12 div.sk-serial {display: flex;flex-direction: column;align-items: center;background-color: white;padding-right: 0.2em;padding-left: 0.2em;position: relative;}#sk-container-id-12 div.sk-item {position: relative;z-index: 1;}#sk-container-id-12 div.sk-parallel {display: flex;align-items: stretch;justify-content: center;background-color: white;position: relative;}#sk-container-id-12 div.sk-item::before, #sk-container-id-12 div.sk-parallel-item::before {content: \"\";position: absolute;border-left: 1px solid gray;box-sizing: border-box;top: 0;bottom: 0;left: 50%;z-index: -1;}#sk-container-id-12 div.sk-parallel-item {display: flex;flex-direction: column;z-index: 1;position: relative;background-color: white;}#sk-container-id-12 div.sk-parallel-item:first-child::after {align-self: flex-end;width: 50%;}#sk-container-id-12 div.sk-parallel-item:last-child::after {align-self: flex-start;width: 50%;}#sk-container-id-12 div.sk-parallel-item:only-child::after {width: 0;}#sk-container-id-12 div.sk-dashed-wrapped {border: 1px dashed gray;margin: 0 0.4em 0.5em 0.4em;box-sizing: border-box;padding-bottom: 0.4em;background-color: white;}#sk-container-id-12 div.sk-label label {font-family: monospace;font-weight: bold;display: inline-block;line-height: 1.2em;}#sk-container-id-12 div.sk-label-container {text-align: center;}#sk-container-id-12 div.sk-container {/* jupyter's `normalize.less` sets `[hidden] { display: none; }` but bootstrap.min.css set `[hidden] { display: none !important; }` so we also need the `!important` here to be able to override the default hidden behavior on the sphinx rendered scikit-learn.org. See: https://github.com/scikit-learn/scikit-learn/issues/21755 */display: inline-block !important;position: relative;}#sk-container-id-12 div.sk-text-repr-fallback {display: none;}</style><div id=\"sk-container-id-12\" class=\"sk-top-container\"><div class=\"sk-text-repr-fallback\"><pre>GridSearchCV(cv=5,\n",
              "             estimator=AdaBoostClassifier(estimator=DecisionTreeClassifier(max_depth=1),\n",
              "                                          random_state=42),\n",
              "             param_grid={&#x27;learning_rate&#x27;: [0.01, 0.1, 0.5, 1.0],\n",
              "                         &#x27;n_estimators&#x27;: [50, 100, 200]},\n",
              "             refit=&#x27;accuracy&#x27;,\n",
              "             scoring=[&#x27;accuracy&#x27;, &#x27;precision&#x27;, &#x27;recall&#x27;, &#x27;f1&#x27;])</pre><b>In a Jupyter environment, please rerun this cell to show the HTML representation or trust the notebook. <br />On GitHub, the HTML representation is unable to render, please try loading this page with nbviewer.org.</b></div><div class=\"sk-container\" hidden><div class=\"sk-item sk-dashed-wrapped\"><div class=\"sk-label-container\"><div class=\"sk-label sk-toggleable\"><input class=\"sk-toggleable__control sk-hidden--visually\" id=\"sk-estimator-id-39\" type=\"checkbox\" ><label for=\"sk-estimator-id-39\" class=\"sk-toggleable__label sk-toggleable__label-arrow\">GridSearchCV</label><div class=\"sk-toggleable__content\"><pre>GridSearchCV(cv=5,\n",
              "             estimator=AdaBoostClassifier(estimator=DecisionTreeClassifier(max_depth=1),\n",
              "                                          random_state=42),\n",
              "             param_grid={&#x27;learning_rate&#x27;: [0.01, 0.1, 0.5, 1.0],\n",
              "                         &#x27;n_estimators&#x27;: [50, 100, 200]},\n",
              "             refit=&#x27;accuracy&#x27;,\n",
              "             scoring=[&#x27;accuracy&#x27;, &#x27;precision&#x27;, &#x27;recall&#x27;, &#x27;f1&#x27;])</pre></div></div></div><div class=\"sk-parallel\"><div class=\"sk-parallel-item\"><div class=\"sk-item\"><div class=\"sk-label-container\"><div class=\"sk-label sk-toggleable\"><input class=\"sk-toggleable__control sk-hidden--visually\" id=\"sk-estimator-id-40\" type=\"checkbox\" ><label for=\"sk-estimator-id-40\" class=\"sk-toggleable__label sk-toggleable__label-arrow\">estimator: AdaBoostClassifier</label><div class=\"sk-toggleable__content\"><pre>AdaBoostClassifier(estimator=DecisionTreeClassifier(max_depth=1),\n",
              "                   random_state=42)</pre></div></div></div><div class=\"sk-serial\"><div class=\"sk-item sk-dashed-wrapped\"><div class=\"sk-parallel\"><div class=\"sk-parallel-item\"><div class=\"sk-item\"><div class=\"sk-label-container\"><div class=\"sk-label sk-toggleable\"><input class=\"sk-toggleable__control sk-hidden--visually\" id=\"sk-estimator-id-41\" type=\"checkbox\" ><label for=\"sk-estimator-id-41\" class=\"sk-toggleable__label sk-toggleable__label-arrow\">estimator: DecisionTreeClassifier</label><div class=\"sk-toggleable__content\"><pre>DecisionTreeClassifier(max_depth=1)</pre></div></div></div><div class=\"sk-serial\"><div class=\"sk-item\"><div class=\"sk-estimator sk-toggleable\"><input class=\"sk-toggleable__control sk-hidden--visually\" id=\"sk-estimator-id-42\" type=\"checkbox\" ><label for=\"sk-estimator-id-42\" class=\"sk-toggleable__label sk-toggleable__label-arrow\">DecisionTreeClassifier</label><div class=\"sk-toggleable__content\"><pre>DecisionTreeClassifier(max_depth=1)</pre></div></div></div></div></div></div></div></div></div></div></div></div></div></div></div>"
            ]
          },
          "metadata": {},
          "execution_count": 140
        }
      ]
    },
    {
      "cell_type": "markdown",
      "source": [
        "*Observar los mejores hiperparametros*"
      ],
      "metadata": {
        "id": "tMyvTLNHUUUk"
      }
    },
    {
      "cell_type": "code",
      "source": [
        "print(\"Mejores hiperparámetros:\", busqueda.best_params_)"
      ],
      "metadata": {
        "colab": {
          "base_uri": "https://localhost:8080/"
        },
        "id": "JgnVCJX2UZhM",
        "outputId": "5d708bce-154e-426d-c7eb-48c8f2d77119"
      },
      "execution_count": null,
      "outputs": [
        {
          "output_type": "stream",
          "name": "stdout",
          "text": [
            "Mejores hiperparámetros: {'learning_rate': 0.01, 'n_estimators': 200}\n"
          ]
        }
      ]
    },
    {
      "cell_type": "markdown",
      "source": [
        "***Para las variables balanceadas***"
      ],
      "metadata": {
        "id": "woDqfyu6etBE"
      }
    },
    {
      "cell_type": "code",
      "source": [
        "print(\"Mejores hiperparámetros:\", busqueda_2.best_params_)"
      ],
      "metadata": {
        "id": "V7PsTf8ze7e6",
        "colab": {
          "base_uri": "https://localhost:8080/"
        },
        "outputId": "fdece161-64a8-4f76-af2c-aa17a7db8b15"
      },
      "execution_count": null,
      "outputs": [
        {
          "output_type": "stream",
          "name": "stdout",
          "text": [
            "Mejores hiperparámetros: {'learning_rate': 0.01, 'n_estimators': 200}\n"
          ]
        }
      ]
    },
    {
      "cell_type": "markdown",
      "source": [
        "#Creación del nuevo modelo"
      ],
      "metadata": {
        "id": "h4y7YtGAVmmi"
      }
    },
    {
      "cell_type": "code",
      "source": [
        "best_adaboost_classifier = AdaBoostClassifier(clasificador_base, random_state=42,n_estimators=200,learning_rate=0.01)"
      ],
      "metadata": {
        "id": "ap8UuJdGVpZJ"
      },
      "execution_count": null,
      "outputs": []
    },
    {
      "cell_type": "markdown",
      "source": [
        "***Para variables balanceadas***"
      ],
      "metadata": {
        "id": "O-OE9nxejX7H"
      }
    },
    {
      "cell_type": "code",
      "source": [
        "best_adaboost_classifier_r = AdaBoostClassifier(clasificador_base, random_state=42,n_estimators=200,learning_rate=0.01)"
      ],
      "metadata": {
        "id": "2b74T5bNjqC-"
      },
      "execution_count": null,
      "outputs": []
    },
    {
      "cell_type": "markdown",
      "source": [
        "#Prueba del Modelo"
      ],
      "metadata": {
        "id": "9FO7pKaBWXU6"
      }
    },
    {
      "cell_type": "code",
      "source": [
        "best_adaboost_classifier.fit(x_train_30, y_train_30)\n",
        "y_pred_30_2 = best_adaboost_classifier.predict(x_test_30)\n",
        "\n",
        "# Calcular métricas\n",
        "accuracy_2 = accuracy_score(y_test_30, y_pred_30_2)\n",
        "balanced_accuracy_2 = balanced_accuracy_score(y_test_30, y_pred_30_2)\n",
        "recall_2 = recall_score(y_test_30, y_pred_30_2)\n",
        "f1_2 = f1_score(y_test_30, y_pred_30_2)\n",
        "\n",
        "# Imprimir los resultados\n",
        "print(f'Accuracy: {accuracy_2}')\n",
        "print(f'Balanced Accuracy: {balanced_accuracy_2}')\n",
        "print(f'Recall: {recall_2}')\n",
        "print(f'F1-Score: {f1_2}')"
      ],
      "metadata": {
        "colab": {
          "base_uri": "https://localhost:8080/"
        },
        "id": "N5PqlKPlWY5V",
        "outputId": "e8f8f80f-8ef8-4ca8-fe41-06a5055fc9a6"
      },
      "execution_count": null,
      "outputs": [
        {
          "output_type": "stream",
          "name": "stdout",
          "text": [
            "Accuracy: 0.9833333333333333\n",
            "Balanced Accuracy: 0.9777777777777779\n",
            "Recall: 1.0\n",
            "F1-Score: 0.9868421052631579\n"
          ]
        }
      ]
    },
    {
      "cell_type": "markdown",
      "source": [
        "***Para las variables balanceadas***"
      ],
      "metadata": {
        "id": "TJtTqnNjkf80"
      }
    },
    {
      "cell_type": "code",
      "source": [
        "best_adaboost_classifier_r.fit(xr_train_30, yr_train_30)\n",
        "yr_pred_30_2 = best_adaboost_classifier_r.predict(xr_test_30)\n",
        "\n",
        "# Calcular métricas\n",
        "accuracy_2_r = accuracy_score(yr_test_30, yr_pred_30_2)\n",
        "balanced_accuracy_2_r = balanced_accuracy_score(yr_test_30, yr_pred_30_2)\n",
        "recall_2_r = recall_score(yr_test_30, yr_pred_30_2)\n",
        "f1_2_r = f1_score(yr_test_30, yr_pred_30_2)\n",
        "\n",
        "# Imprimir los resultados\n",
        "print(f'Accuracy: {accuracy_2_r}')\n",
        "print(f'Balanced Accuracy: {balanced_accuracy_2_r}')\n",
        "print(f'Recall: {recall_2_r}')\n",
        "print(f'F1-Score: {f1_2_r}')"
      ],
      "metadata": {
        "colab": {
          "base_uri": "https://localhost:8080/"
        },
        "id": "BOQLHZcXkk2S",
        "outputId": "baff0a08-9ee8-4306-d930-9b80383b8a1c"
      },
      "execution_count": null,
      "outputs": [
        {
          "output_type": "stream",
          "name": "stdout",
          "text": [
            "Accuracy: 0.9777777777777777\n",
            "Balanced Accuracy: 0.9777777777777779\n",
            "Recall: 1.0\n",
            "F1-Score: 0.9782608695652174\n"
          ]
        }
      ]
    },
    {
      "cell_type": "markdown",
      "source": [
        "#prueba del modelo variando los porcentajes de entrenamiento y testeo"
      ],
      "metadata": {
        "id": "a06NbWPvYqfW"
      }
    },
    {
      "cell_type": "markdown",
      "source": [
        "*División de los datos*"
      ],
      "metadata": {
        "id": "LV-IEIcYZAId"
      }
    },
    {
      "cell_type": "code",
      "source": [
        "x_train_20, x_test_20, y_train_20, y_test_20 = train_test_split(x, y, test_size=0.2, stratify=y, random_state=42)"
      ],
      "metadata": {
        "id": "m9JS0wVLYuVL"
      },
      "execution_count": null,
      "outputs": []
    },
    {
      "cell_type": "markdown",
      "source": [
        "*Creación del modelo*"
      ],
      "metadata": {
        "id": "x_dEjly0ZCbu"
      }
    },
    {
      "cell_type": "code",
      "source": [
        "best_adaboost_classifier_2 = AdaBoostClassifier(clasificador_base, random_state=42,n_estimators=200,learning_rate=0.01)\n",
        "best_adaboost_classifier_2.fit(x_train_20, y_train_20)\n",
        "y_pred_20 = best_adaboost_classifier_2.predict(x_test_20)\n",
        "\n",
        "# Calcular métricas\n",
        "accuracy_3 = accuracy_score(y_test_20, y_pred_20)\n",
        "balanced_accuracy_3 = balanced_accuracy_score(y_test_20, y_pred_20)\n",
        "recall_3 = recall_score(y_test_20, y_pred_20)\n",
        "f1_3 = f1_score(y_test_20, y_pred_20)\n",
        "\n",
        "# Imprimir los resultados\n",
        "print(f'Accuracy: {accuracy_3}')\n",
        "print(f'Balanced Accuracy: {balanced_accuracy_3}')\n",
        "print(f'Recall: {recall_3}')\n",
        "print(f'F1-Score: {f1_3}')"
      ],
      "metadata": {
        "colab": {
          "base_uri": "https://localhost:8080/"
        },
        "id": "NBxt4j5_ZkL0",
        "outputId": "d0d15444-4923-49a7-f31f-09387522ec9f"
      },
      "execution_count": null,
      "outputs": [
        {
          "output_type": "stream",
          "name": "stdout",
          "text": [
            "Accuracy: 0.9875\n",
            "Balanced Accuracy: 0.9833333333333334\n",
            "Recall: 1.0\n",
            "F1-Score: 0.99009900990099\n"
          ]
        }
      ]
    },
    {
      "cell_type": "markdown",
      "source": [
        "Para las variables balanceadas"
      ],
      "metadata": {
        "id": "uih-9yQOm89_"
      }
    },
    {
      "cell_type": "markdown",
      "source": [
        "*División de datos*"
      ],
      "metadata": {
        "id": "lWHCd94NtRvd"
      }
    },
    {
      "cell_type": "code",
      "source": [
        "xr_train_20, xr_test_20, yr_train_20, yr_test_20 = train_test_split(x, y, test_size=0.2, stratify=y, random_state=42)\n",
        "ns2=NearMiss(sampling_strategy='auto',n_neighbors=3,version=2)\n",
        "xr_train_20,yr_train_20=ns2.fit_resample(xr_train_20, yr_train_20)\n",
        "xr_test_20, yr_test_20=ns2.fit_resample(xr_test_20, yr_test_20)"
      ],
      "metadata": {
        "id": "uqDnpNTBs8rE"
      },
      "execution_count": null,
      "outputs": []
    },
    {
      "cell_type": "markdown",
      "source": [
        "*Creación del modelo*"
      ],
      "metadata": {
        "id": "vrfW9jVjtYuI"
      }
    },
    {
      "cell_type": "code",
      "source": [
        "best_adaboost_classifier_r_2 = AdaBoostClassifier(clasificador_base, random_state=42,n_estimators=200,learning_rate=0.01)\n",
        "best_adaboost_classifier_r_2.fit(xr_train_20, yr_train_20)\n",
        "yr_pred_20_2 = best_adaboost_classifier_r_2.predict(xr_test_20)\n",
        "\n",
        "# Calcular métricas\n",
        "accuracy_4_r = accuracy_score(yr_test_20, yr_pred_20_2)\n",
        "balanced_accuracy_4_r = balanced_accuracy_score(yr_test_20, yr_pred_20_2)\n",
        "recall_4_r = recall_score(yr_test_20, yr_pred_20_2)\n",
        "f1_4_r = f1_score(yr_test_20, yr_pred_20_2)\n",
        "\n",
        "# Imprimir los resultados\n",
        "print(f'Accuracy: {accuracy_4_r}')\n",
        "print(f'Balanced Accuracy: {balanced_accuracy_4_r}')\n",
        "print(f'Recall: {recall_4_r}')\n",
        "print(f'F1-Score: {f1_4_r}')"
      ],
      "metadata": {
        "colab": {
          "base_uri": "https://localhost:8080/"
        },
        "id": "uwMn53YltWTo",
        "outputId": "7e91e615-6bff-4afb-f781-5ff9522b6595"
      },
      "execution_count": null,
      "outputs": [
        {
          "output_type": "stream",
          "name": "stdout",
          "text": [
            "Accuracy: 0.9833333333333333\n",
            "Balanced Accuracy: 0.9833333333333334\n",
            "Recall: 1.0\n",
            "F1-Score: 0.9836065573770492\n"
          ]
        }
      ]
    }
  ]
}