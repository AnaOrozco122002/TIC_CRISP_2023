{
  "nbformat": 4,
  "nbformat_minor": 0,
  "metadata": {
    "colab": {
      "provenance": []
    },
    "kernelspec": {
      "name": "python3",
      "display_name": "Python 3"
    },
    "language_info": {
      "name": "python"
    }
  },
  "cells": [
    {
      "cell_type": "markdown",
      "source": [
        "Name of the project: “Dataset” para la Predicción de Insuficiencia Renal Aguda\n",
        "\n",
        "\n",
        "Name of the members: Ana Sofía Orozco, Laura Sofía Chanchí, Paula Sofía Muñoz\n",
        "\n",
        "Members' email: ansorozco@unicauca.edu.co, paulasofia@unicauca.edu.co, lchanchi@unicauca.edu.co"
      ],
      "metadata": {
        "id": "TKoV4dE31E6O"
      }
    },
    {
      "cell_type": "markdown",
      "source": [],
      "metadata": {
        "id": "9qZRQ1_17bci"
      }
    },
    {
      "cell_type": "code",
      "source": [
        "# Ejemplos de tipos de datos\n",
        "Dia_nacimiento = 22\n",
        "Mes_nacimiento = 'septiembre'\n",
        "Altura_cm = 175.70\n",
        "Exito = True\n",
        "print( type(Dia_nacimiento) , type(Mes_nacimiento) , type(Altura_cm) , type(Exito))"
      ],
      "metadata": {
        "colab": {
          "base_uri": "https://localhost:8080/"
        },
        "id": "sw-Xi2p43GBn",
        "outputId": "53bb2847-9c02-4303-a452-f6fd0d443765"
      },
      "execution_count": null,
      "outputs": [
        {
          "output_type": "stream",
          "name": "stdout",
          "text": [
            "<class 'int'> <class 'str'> <class 'float'> <class 'bool'>\n"
          ]
        }
      ]
    },
    {
      "cell_type": "markdown",
      "source": [
        "In the first example, the types of the different variables are being printed."
      ],
      "metadata": {
        "id": "Us3dK7_c_F3r"
      }
    },
    {
      "cell_type": "code",
      "source": [
        "#Ejemplo de Listas\n",
        "\n",
        "colores = [\"amarillo\", \"azul\", \"rojo\", \"verde\", \"morado\", \"negro\"]\n",
        "colores[1]\n",
        "colores[0]\n",
        "colores[-1]\n",
        "colores[5]\n",
        "colores[-3]\n",
        "# Separar o cortar listas\n",
        "colores[::]\n",
        "colores[0:2]\n",
        "colores[-2:-1]\n",
        "colores[3:]\n",
        "colores[:4]\n",
        "colores[:]\n",
        "colores[::-1]\n",
        "colores[::-2]\n",
        "colores[::2]\n",
        "# Valores por defecto\n",
        "colores[0:6:1]\n",
        "colores[-1:-7:-1]\n",
        "\n",
        "print(\"Sacar un solo valor: \",colores[1],colores[0],colores[-1],colores[5],colores[-3])\n",
        "\n",
        "print(\"Valores por defecto: \", colores[::])\n",
        "\n",
        "print(\"Intervalo 1:\", colores[0:2])\n",
        "\n",
        "print(\"Intervalo 2:\", colores[-2:-1])\n",
        "\n",
        "print(\"Intervalo 3:\", colores[3:])\n",
        "\n",
        "print(\"Intervalo 4:\", colores[:4])\n",
        "\n",
        "print(\"Intervalo 5:\", colores[:])\n",
        "\n",
        "print(\"Intervalo 6:\", colores[::-1])\n",
        "\n",
        "print(\"Intervalo 7:\", colores[::-2])\n",
        "\n",
        "print(\"Intervalo 8:\", colores[::2])\n",
        "\n",
        "print(\"Intervalo 9:\", colores[0:6:1])\n",
        "\n",
        "print(\"Intervalo 10:\", colores[-1:-7:-1])\n"
      ],
      "metadata": {
        "colab": {
          "base_uri": "https://localhost:8080/"
        },
        "id": "8tWawv4z3Nhr",
        "outputId": "9c063c2a-2b23-4fad-fbf9-b2ec78fa31fb"
      },
      "execution_count": null,
      "outputs": [
        {
          "output_type": "stream",
          "name": "stdout",
          "text": [
            "Sacar un solo valor:  azul amarillo negro negro verde\n",
            "Valores por defecto:  ['amarillo', 'azul', 'rojo', 'verde', 'morado', 'negro']\n",
            "Intervalo 1: ['amarillo', 'azul']\n",
            "Intervalo 2: ['morado']\n",
            "Intervalo 3: ['verde', 'morado', 'negro']\n",
            "Intervalo 4: ['amarillo', 'azul', 'rojo', 'verde']\n",
            "Intervalo 5: ['amarillo', 'azul', 'rojo', 'verde', 'morado', 'negro']\n",
            "Intervalo 6: ['negro', 'morado', 'verde', 'rojo', 'azul', 'amarillo']\n",
            "Intervalo 7: ['negro', 'verde', 'azul']\n",
            "Intervalo 8: ['amarillo', 'rojo', 'morado']\n",
            "Intervalo 9: ['amarillo', 'azul', 'rojo', 'verde', 'morado', 'negro']\n",
            "Intervalo 10: ['negro', 'morado', 'verde', 'rojo', 'azul', 'amarillo']\n"
          ]
        }
      ]
    },
    {
      "cell_type": "markdown",
      "source": [
        "Here we are learning how to work with lists, and how we can manipulate the start, end, and the step of the values. The value before the end is taken."
      ],
      "metadata": {
        "id": "QfljVAn9_ysx"
      }
    },
    {
      "cell_type": "code",
      "source": [
        "# Añadir valores de una lista\n",
        "colores.append(\"blanco\")\n",
        "colores"
      ],
      "metadata": {
        "id": "TsQI0OGq3NlM",
        "colab": {
          "base_uri": "https://localhost:8080/"
        },
        "outputId": "1fbc31d4-e91e-4eab-b05d-8e9274d9457f"
      },
      "execution_count": null,
      "outputs": [
        {
          "output_type": "execute_result",
          "data": {
            "text/plain": [
              "['amarillo', 'azul', 'verde', 'morado', 'negro', 'naranja', 'rosado', 'blanco']"
            ]
          },
          "metadata": {},
          "execution_count": 29
        }
      ]
    },
    {
      "cell_type": "markdown",
      "source": [
        "Here we are learning: 1) how to add a value to a list and 2)the lists are dynamic"
      ],
      "metadata": {
        "id": "TDCI_pGdADzY"
      }
    },
    {
      "cell_type": "code",
      "source": [
        "colores = colores + [ \"naranja\" , \"rosado\"]\n",
        "colores"
      ],
      "metadata": {
        "colab": {
          "base_uri": "https://localhost:8080/"
        },
        "id": "Vmank7vh42Mm",
        "outputId": "59f44396-40ab-4f83-fa3d-4087741853cf"
      },
      "execution_count": null,
      "outputs": [
        {
          "output_type": "execute_result",
          "data": {
            "text/plain": [
              "['amarillo',\n",
              " 'azul',\n",
              " 'verde',\n",
              " 'morado',\n",
              " 'negro',\n",
              " 'naranja',\n",
              " 'rosado',\n",
              " 'blanco',\n",
              " 'naranja',\n",
              " 'rosado']"
            ]
          },
          "metadata": {},
          "execution_count": 30
        }
      ]
    },
    {
      "cell_type": "markdown",
      "source": [
        "This is another way to add values in case that more than one is added at the same time"
      ],
      "metadata": {
        "id": "d14s_NbNa4jU"
      }
    },
    {
      "cell_type": "code",
      "source": [
        "#cambiar valores en una lista\n",
        "\n",
        "colores [0:2] = [ \"fucsia\" , \"gris\" ]\n",
        "colores\n"
      ],
      "metadata": {
        "id": "Dx4UXd5P5Cew",
        "colab": {
          "base_uri": "https://localhost:8080/"
        },
        "outputId": "87cff70d-20ba-4dcf-b9a7-7c19b91f018a"
      },
      "execution_count": null,
      "outputs": [
        {
          "output_type": "execute_result",
          "data": {
            "text/plain": [
              "['fucsia',\n",
              " 'gris',\n",
              " 'verde',\n",
              " 'morado',\n",
              " 'negro',\n",
              " 'naranja',\n",
              " 'rosado',\n",
              " 'blanco',\n",
              " 'naranja',\n",
              " 'rosado']"
            ]
          },
          "metadata": {},
          "execution_count": 31
        }
      ]
    },
    {
      "cell_type": "markdown",
      "source": [
        "Here, through a selection of intervals, several of the values in a list are being changed"
      ],
      "metadata": {
        "id": "_sKrBJsTA2Nw"
      }
    },
    {
      "cell_type": "code",
      "source": [
        "# Borrar valores de una lista\n",
        "colores.remove(\"rojo\")\n",
        "colores"
      ],
      "metadata": {
        "colab": {
          "base_uri": "https://localhost:8080/"
        },
        "id": "pUDH7wzI6U7c",
        "outputId": "51d4b4b5-db56-46bb-dc12-58ba191a7873"
      },
      "execution_count": null,
      "outputs": [
        {
          "output_type": "execute_result",
          "data": {
            "text/plain": [
              "['amarillo', 'azul', 'verde', 'morado', 'negro']"
            ]
          },
          "metadata": {},
          "execution_count": 17
        }
      ]
    },
    {
      "cell_type": "markdown",
      "source": [
        "Here an element is being removed from a list by its name"
      ],
      "metadata": {
        "id": "TBp3Isc5Bi3r"
      }
    },
    {
      "cell_type": "code",
      "source": [
        "#Calificaciones de series con listas\n",
        "series = [\"Game of Thrones\", \"Breaking Bad\", \"Dark\"]\n",
        "calificaciones = [8.4, 7.2, 9.3]\n",
        "seleccion_indice_serie = series.index(\"Dark\")\n",
        "print(calificaciones[seleccion_indice_serie])"
      ],
      "metadata": {
        "colab": {
          "base_uri": "https://localhost:8080/"
        },
        "id": "dqyDtaC77VHH",
        "outputId": "e2588c00-6cb9-4064-fbc3-988b7ef734ca"
      },
      "execution_count": null,
      "outputs": [
        {
          "output_type": "stream",
          "name": "stdout",
          "text": [
            "9.3\n"
          ]
        }
      ]
    },
    {
      "cell_type": "markdown",
      "source": [
        "Here two lists are being created, then the index of an element of the first list is being found by its name and after this, this index is used to search in the second list for the desired element."
      ],
      "metadata": {
        "id": "aM7izB0sBwOo"
      }
    },
    {
      "cell_type": "code",
      "source": [
        "calificaciones = {\n",
        "\n",
        "  \"Game of Thrones\": 8.4,\n",
        "  \"Breaking Bad\": 7.2,\n",
        "  \"Dark\" : 9.3\n",
        "}\n",
        "print(calificaciones[\"Dark\"])"
      ],
      "metadata": {
        "colab": {
          "base_uri": "https://localhost:8080/"
        },
        "id": "SiAWawG07nqf",
        "outputId": "d77c685b-ee90-40d2-f669-04d60372ead6"
      },
      "execution_count": null,
      "outputs": [
        {
          "output_type": "stream",
          "name": "stdout",
          "text": [
            "9.3\n"
          ]
        }
      ]
    },
    {
      "cell_type": "markdown",
      "source": [
        "Here a dictionary is being created with the key, value format. 3 keys and values added, and one of these is being printed"
      ],
      "metadata": {
        "id": "qGR3I2zECwk9"
      }
    },
    {
      "cell_type": "code",
      "source": [
        "calificaciones[ \"La Casa de Papel\" ] = 8.0\n",
        "print(calificaciones)\n",
        "calificaciones[ \"Game of Thrones\" ] = 8.8\n",
        "print(calificaciones)\n",
        "del(calificaciones[\"Dark\"])\n",
        "print(calificaciones)"
      ],
      "metadata": {
        "colab": {
          "base_uri": "https://localhost:8080/"
        },
        "id": "bGuA8QY98G8Z",
        "outputId": "5adaeafd-8f2d-48bc-c063-9a0a6d791c04"
      },
      "execution_count": null,
      "outputs": [
        {
          "output_type": "stream",
          "name": "stdout",
          "text": [
            "{'Game of Thrones': 8.4, 'Breaking Bad': 7.2, 'Dark': 9.3, 'La Casa de Papel': 8.0}\n",
            "{'Game of Thrones': 8.8, 'Breaking Bad': 7.2, 'Dark': 9.3, 'La Casa de Papel': 8.0}\n",
            "{'Game of Thrones': 8.8, 'Breaking Bad': 7.2, 'La Casa de Papel': 8.0}\n"
          ]
        }
      ]
    },
    {
      "cell_type": "markdown",
      "source": [
        "Here, in the first instance, a new element is being added to the dictionary, then a value of the dictionary is being changed by using its key and finally an element is being deleted using its key."
      ],
      "metadata": {
        "id": "W_X2VVkVDC_K"
      }
    },
    {
      "cell_type": "code",
      "source": [
        "print(\"Game of Thrones\" in calificaciones)"
      ],
      "metadata": {
        "colab": {
          "base_uri": "https://localhost:8080/"
        },
        "id": "j6fgtaz28Qra",
        "outputId": "56a78a62-778d-4a7b-dbe0-d783bc6f411c"
      },
      "execution_count": null,
      "outputs": [
        {
          "output_type": "stream",
          "name": "stdout",
          "text": [
            "True\n"
          ]
        }
      ]
    },
    {
      "cell_type": "markdown",
      "source": [
        "Here a key is being searched within the dictionary, resulting in true if it is found and false if not."
      ],
      "metadata": {
        "id": "FLpl6sH-D5lm"
      }
    },
    {
      "cell_type": "code",
      "source": [
        "def es_primo(n):\n",
        "  if n <= 1:\n",
        "    return False\n",
        "  elif n <= 3:\n",
        "    return True\n",
        "  elif n % 2 == 0 or n % 3 == 0:\n",
        "    return False\n",
        "  numero_actual = 5\n",
        "  while numero_actual * numero_actual <= n:\n",
        "    if n % numero_actual == 0 or n % (numero_actual + 2) == 0:\n",
        "      return False\n",
        "    numero_actual = numero_actual + 6\n",
        "  return True"
      ],
      "metadata": {
        "id": "FBEIoSqi884G"
      },
      "execution_count": null,
      "outputs": []
    },
    {
      "cell_type": "markdown",
      "source": [
        "First the function called es_primo is being defined which will receive a number that will be called n, then it checks, every number less than or equal to 1 is not prime so it will return false, in the second if it will check if the number is two , if so it will be returned true because it is a prime number, otherwise the module of the number will be checked against 2 or 3, if the result is 0 it means that the number is divisible by one of these two, therefore He is not a prime. If it did not enter any of the previous ifs, it means that now it will be compared with the next prime, which is 5. From this moment on, a while will be used since the following primes follow the pattern of interleaving each other every certain interval. . First, it is verified that the current number (which will be in charge of verifying the desired number) multiplied by itself is less than or equal to the number to be verified. If this is correct, the module of the desired one is verified with the current one and with the current one + 2; If correct, it returns false and if not, it increases the current number by 6. This process is repeated until the verification condition is no longer met and in that case true will be returned."
      ],
      "metadata": {
        "id": "XnGPBVseGkXv"
      }
    },
    {
      "cell_type": "code",
      "source": [
        "#METHODS (is available for an object depending on its type, such as int float etc.)\n",
        "\n",
        "# Methods for text strings (str)\n",
        "text = \"Electiva: TIC en salud\"\n",
        "text.upper()  # upper function--> Output all capitalized text\n",
        "text.lower()  # Lower function--> Output all lower case text\n",
        "text.capitalize() # Capitalize function--> The first letter is capitalized and the others in lower case, as in a conventional text.\n",
        "print (text.upper() )\n",
        "print (text.lower() )\n",
        "print (text.capitalize())"
      ],
      "metadata": {
        "colab": {
          "base_uri": "https://localhost:8080/"
        },
        "id": "TZbM2xs9Rd_n",
        "outputId": "b61649dd-927c-44d5-bbc0-8dbca779bb15"
      },
      "execution_count": null,
      "outputs": [
        {
          "output_type": "stream",
          "name": "stdout",
          "text": [
            "ELECTIVA: TIC EN SALUD\n",
            "electiva: tic en salud\n",
            "Electiva: tic en salud\n"
          ]
        }
      ]
    },
    {
      "cell_type": "code",
      "source": [
        "#Methods for lists\n",
        "numeros = [1, 3, 5, 2, 9, 8, 11] #Declare the list\n",
        "numeros.reverse() # Pulls the list backwards (-1...0)\n",
        "print(\"Resultado del reverse:\",numeros)\n",
        "numeros.sort() # Organize the numbers from smallest to largest\n",
        "print(\"Resultado del Sort:\",numeros)"
      ],
      "metadata": {
        "colab": {
          "base_uri": "https://localhost:8080/"
        },
        "id": "j6bR4achSBkf",
        "outputId": "034fafb3-f118-4e67-fbd6-92fbed51e35f"
      },
      "execution_count": null,
      "outputs": [
        {
          "output_type": "stream",
          "name": "stdout",
          "text": [
            "Resultado del reverse: [11, 8, 9, 2, 5, 3, 1]\n",
            "Resultado del Sort: [1, 2, 3, 5, 8, 9, 11]\n"
          ]
        }
      ]
    },
    {
      "cell_type": "code",
      "source": [
        "#Methods for dictionaries\n",
        "calificaciones = {       # Declare the Dictionary, with its key:value\n",
        "\"Game of Thrones\": 8.4,\n",
        "\"Breaking Bad\": 7.2,\n",
        "\"Dark\" : 9.3\n",
        "}\n",
        "print(calificaciones.keys())   #Get the keys from the dictionary\n",
        "print(calificaciones.values()) #Take the values out of the dictionary\n",
        "print(calificaciones.items())  #Draw all dictionary items with their key: value"
      ],
      "metadata": {
        "colab": {
          "base_uri": "https://localhost:8080/"
        },
        "id": "BvprlSlLSTCn",
        "outputId": "01d2ada3-25f8-4a26-9222-b9c91f6a0e36"
      },
      "execution_count": null,
      "outputs": [
        {
          "output_type": "stream",
          "name": "stdout",
          "text": [
            "dict_keys(['Game of Thrones', 'Breaking Bad', 'Dark'])\n",
            "dict_values([8.4, 7.2, 9.3])\n",
            "dict_items([('Game of Thrones', 8.4), ('Breaking Bad', 7.2), ('Dark', 9.3)])\n"
          ]
        }
      ]
    },
    {
      "cell_type": "code",
      "source": [
        "#Method for each type of object\n",
        "numeros = [12, 20, 35, 28, 8, 46]\n",
        "texto = \"Electiva: TIC en salud\"  # Lists are declared: numbers and text\n",
        "\n",
        "#Position\n",
        "numeros.index(8) #Draw the position that number 8 is occupying in the list of numbers (list of int)\n",
        "texto.index(\"a\") #Draw the position that number 8 is occupying in the list of numbers (list of int)\n",
        "\n",
        "#Count\n",
        "numeros.count(20) # Count how many 20s there are\n",
        "texto.count(\"e\")   # Count the number of e's (miniscules) that are present.\n",
        "\n",
        "print('Resultados de Posición para la lista numeros:', numeros.index(8))\n",
        "print('Resultados de Posición para la lista texto:', texto.index(\"a\") )\n",
        "print('Resultados de Contar para la lista numeros:', numeros.count(20) )\n",
        "print('Resultados de Contar para la lista texto:', texto.count(\"e\") )"
      ],
      "metadata": {
        "colab": {
          "base_uri": "https://localhost:8080/"
        },
        "id": "yghUPf9qSamm",
        "outputId": "d8ef7cdc-ad56-4982-a953-f8c9e1ddb000"
      },
      "execution_count": null,
      "outputs": [
        {
          "output_type": "stream",
          "name": "stdout",
          "text": [
            "Resultados de Posición para la lista numeros: 4\n",
            "Resultados de Posición para la lista texto: 7\n",
            "Resultados de Contar para la lista numeros: 1\n",
            "Resultados de Contar para la lista texto: 2\n"
          ]
        }
      ]
    },
    {
      "cell_type": "code",
      "source": [
        "#PACKAGES (Collection of modules in directories, modules--> Specify functions, methods )\n",
        "\n",
        "  #Statements\n",
        "import numpy #Numpy package is imported\n",
        "numeros = numpy.array([2, 3, 19, 14, 6, 18, 0]) #An array is created from the list.\n",
        "\n",
        "print(numeros)"
      ],
      "metadata": {
        "colab": {
          "base_uri": "https://localhost:8080/"
        },
        "id": "Cua0iCYxSumK",
        "outputId": "d4da9297-e785-4689-b65e-8955cd3cc195"
      },
      "execution_count": null,
      "outputs": [
        {
          "output_type": "stream",
          "name": "stdout",
          "text": [
            "[ 2  3 19 14  6 18  0]\n"
          ]
        }
      ]
    },
    {
      "cell_type": "code",
      "source": [
        "  #Statement with an alias\n",
        "import numpy as np     # np is an alias for the NumPy package\n",
        "numeros = np.array([2, 3, 19, 14, 6, 18, 0]) #The array is declared with the alias np\n",
        "numeros = numpy.array([3, 4, 20, 15, 7, 19, 0]) # Will throw error because the numpy package is np\n",
        "\n",
        "print (numeros)\n"
      ],
      "metadata": {
        "colab": {
          "base_uri": "https://localhost:8080/"
        },
        "id": "qvAxBUnBS-yi",
        "outputId": "1980a830-ea9c-415b-a8aa-f7e39131a15d"
      },
      "execution_count": null,
      "outputs": [
        {
          "output_type": "stream",
          "name": "stdout",
          "text": [
            "[ 3  4 20 15  7 19  0]\n"
          ]
        }
      ]
    },
    {
      "cell_type": "code",
      "source": [
        "#Import submodules of a package\n",
        "import matplotlib.pyplot as plt  #from the matplotlib package extract the pyplot submodule and add the plt alias to it"
      ],
      "metadata": {
        "id": "ZHraqwIMTMUO"
      },
      "execution_count": null,
      "outputs": []
    },
    {
      "cell_type": "code",
      "source": [
        "#Import a function from a package\n",
        "from numpy import array # I import from the numpy package the array function\n",
        "numeros = array([3, 4, 20, 15, 7, 19, 0]) # The array is declared\n",
        "numeros = numpy.array([3, 4, 20, 15, 7, 19, 0]) # Error--> The numpy package is not defined, only the array function is not defined.\n",
        "\n",
        "type(numeros)  #numpy.ndarray -->n-dimensional matrix"
      ],
      "metadata": {
        "colab": {
          "base_uri": "https://localhost:8080/"
        },
        "id": "sE_-ktoGTRxd",
        "outputId": "00008261-7d8c-4128-d40f-9f91c81e4c2a"
      },
      "execution_count": null,
      "outputs": [
        {
          "output_type": "execute_result",
          "data": {
            "text/plain": [
              "numpy.ndarray"
            ]
          },
          "metadata": {},
          "execution_count": 9
        }
      ]
    },
    {
      "cell_type": "code",
      "source": [
        "#NumPy PACKAGE USAGE (requires only one type for the array)\n",
        "\n",
        "# ONE-DIMENSIONAL ARRAYS\n",
        "    # NumPy Array - Type Conversion\n",
        "import numpy as np\n",
        "x= np.array([False, 36, \"Electiva: TIC en salud\"]) # different types: boolean, int, str\n",
        "y= np.array([False, 36], dtype = int) # elements false and 36 become int\n",
        "z=np.array([False, 36, 67.93], dtype = float) #3 elements become float\n",
        "\n",
        "print (x)\n",
        "print(y)\n",
        "print(z)\n",
        "#We can see that it is easy to make a conversion between booleans, integers and float because it reads them as a number but in the cases of a str:\n",
        "\n",
        "\n",
        "#Invalid Conversion\n",
        "w= np.array([False, 36, \"Electiva: TIC en salud\"], dtype = float)# Search from a str to a float --> CAN NOT\n",
        "print(w)"
      ],
      "metadata": {
        "colab": {
          "base_uri": "https://localhost:8080/",
          "height": 279
        },
        "id": "js6bFWm2Tzqs",
        "outputId": "0b00d442-48e1-4a09-bdbd-c16bb1aca2f9"
      },
      "execution_count": null,
      "outputs": [
        {
          "output_type": "stream",
          "name": "stdout",
          "text": [
            "['False' '36' 'Electiva: TIC en salud']\n",
            "[ 0 36]\n",
            "[ 0.   36.   67.93]\n"
          ]
        },
        {
          "output_type": "error",
          "ename": "ValueError",
          "evalue": "ignored",
          "traceback": [
            "\u001b[0;31m---------------------------------------------------------------------------\u001b[0m",
            "\u001b[0;31mValueError\u001b[0m                                Traceback (most recent call last)",
            "\u001b[0;32m<ipython-input-10-61bfbb095977>\u001b[0m in \u001b[0;36m<cell line: 18>\u001b[0;34m()\u001b[0m\n\u001b[1;32m     16\u001b[0m \u001b[0;34m\u001b[0m\u001b[0m\n\u001b[1;32m     17\u001b[0m \u001b[0;31m#Conversión Invalida\u001b[0m\u001b[0;34m\u001b[0m\u001b[0;34m\u001b[0m\u001b[0m\n\u001b[0;32m---> 18\u001b[0;31m \u001b[0mw\u001b[0m\u001b[0;34m=\u001b[0m \u001b[0mnp\u001b[0m\u001b[0;34m.\u001b[0m\u001b[0marray\u001b[0m\u001b[0;34m(\u001b[0m\u001b[0;34m[\u001b[0m\u001b[0;32mFalse\u001b[0m\u001b[0;34m,\u001b[0m \u001b[0;36m36\u001b[0m\u001b[0;34m,\u001b[0m \u001b[0;34m\"Electiva: TIC en salud\"\u001b[0m\u001b[0;34m]\u001b[0m\u001b[0;34m,\u001b[0m \u001b[0mdtype\u001b[0m \u001b[0;34m=\u001b[0m \u001b[0mfloat\u001b[0m\u001b[0;34m)\u001b[0m \u001b[0;31m# Busca pasar de un str a un float  --> NO SE PUEDE\u001b[0m\u001b[0;34m\u001b[0m\u001b[0;34m\u001b[0m\u001b[0m\n\u001b[0m\u001b[1;32m     19\u001b[0m \u001b[0mprint\u001b[0m\u001b[0;34m(\u001b[0m\u001b[0mw\u001b[0m\u001b[0;34m)\u001b[0m\u001b[0;34m\u001b[0m\u001b[0;34m\u001b[0m\u001b[0m\n",
            "\u001b[0;31mValueError\u001b[0m: could not convert string to float: 'Electiva: TIC en salud'"
          ]
        }
      ]
    },
    {
      "cell_type": "code",
      "source": [
        "   # Numpy operations\n",
        "    # Operators on NumPy arrays\n",
        "a= np.array([33, 45, 58]) + 1  #1 is added to the whole array\n",
        "b= np.array([25, 3, 40]) * 2\n",
        "c= np.array([44, 20, 70]) / 2\n",
        "d= np.array([4, 5, 6]) * np.array([10, 20, 30]) # The elements of each array are multiplied (they have equal size).\n",
        "e= np.array([4, 5, 6]) - np.array([10, 20, 30])\n",
        "\n",
        "print('Resultado de la suma:', a)\n",
        "print('Resultado de la multiplicación:',b)\n",
        "print('Resultado de la división:',c)\n",
        "print('Resultado de la multiplicación de arrays:',d)\n",
        "print('Resultado de la resta de arrays:',e)"
      ],
      "metadata": {
        "colab": {
          "base_uri": "https://localhost:8080/"
        },
        "id": "hJhjhawyUB5_",
        "outputId": "b3bccc27-7c7f-4402-893a-8b738dbfe8c9"
      },
      "execution_count": null,
      "outputs": [
        {
          "output_type": "stream",
          "name": "stdout",
          "text": [
            "Resultado de la suma: [34 46 59]\n",
            "Resultado de la multiplicación: [50  6 80]\n",
            "Resultado de la división: [22. 10. 35.]\n",
            "Resultado de la multiplicación de arrays: [ 40 100 180]\n",
            "Resultado de la resta de arrays: [ -6 -15 -24]\n"
          ]
        }
      ]
    },
    {
      "cell_type": "code",
      "source": [
        "#2-DIMENSIONAL MATRIXES (numpy.ndarray.)-->Ndarray stands for n-dimensional array.\n",
        " #Two-dimensional arrays\n",
        "numeros = np.array([\n",
        "[2, 4, 6],\n",
        "[1, 3, 5],\n",
        "[5, 7, 9],\n",
        "[6, 8, 10]\n",
        "])               #4 rows * 3 columns matrix declared\n",
        "\n",
        "# If I wanted to extract an element from that array:\n",
        "a =numeros[2, 1]  # row 2 column 1, counting from 0 the first array\n",
        "b=numeros[-1, 0] # last row, first column\n",
        "c= numeros[0]\n",
        "d= numeros[:, 0] #All the row with the first column\n",
        "e= numeros[0:3, 2] # Intersection from row 0 to row 3 with the last column\n",
        "f=numeros[1:3, 1:3]\n",
        "\n",
        "print(a)\n",
        "print(b)\n",
        "print(c)\n",
        "print(d)\n",
        "print(e)\n",
        "print(f)"
      ],
      "metadata": {
        "colab": {
          "base_uri": "https://localhost:8080/"
        },
        "id": "bMVQpySEULx-",
        "outputId": "84054114-f183-4448-a58e-cced0ab33505"
      },
      "execution_count": null,
      "outputs": [
        {
          "output_type": "stream",
          "name": "stdout",
          "text": [
            "7\n",
            "6\n",
            "[2 4 6]\n",
            "[2 1 5 6]\n",
            "[6 5 9]\n",
            "[[3 5]\n",
            " [7 9]]\n"
          ]
        }
      ]
    },
    {
      "cell_type": "code",
      "source": [
        "# To know the dimensions of each matrix and how many elements are in them (shape)\n",
        "  # Attribute 'shape' of NumPy\n",
        "numeros = np.array([\n",
        "[2, 4, 6],\n",
        "[1, 3, 5],\n",
        "[5, 7, 9],\n",
        "[6, 8, 10],\n",
        "[11, 13, 15]\n",
        "])\n",
        "print( numeros.shape ) #Result 5 rows*3columns"
      ],
      "metadata": {
        "colab": {
          "base_uri": "https://localhost:8080/"
        },
        "id": "-BMg5crxUUrS",
        "outputId": "d104db5b-c5d3-41fd-871f-05a15c5ffcc2"
      },
      "execution_count": null,
      "outputs": [
        {
          "output_type": "stream",
          "name": "stdout",
          "text": [
            "(5, 3)\n"
          ]
        }
      ]
    },
    {
      "cell_type": "code",
      "source": [
        "#Data statistics with Numpy\n",
        "horas_aprendizaje = [1, 2, 6, 4, 10]\n",
        "notas = [3, 4, 6, 5, 8]\n",
        "\n",
        "a= np.mean(horas_aprendizaje)   # Mean method--> Average the mean.\n",
        "b= np.median(horas_aprendizaje) # Median method -->Draws the median\n",
        "c=np.std(horas_aprendizaje)     # Method std --> Get the standard deviation\n",
        "d= np.corrcoef(horas_aprendizaje, notas) # Corrcoef method--> Output the correlation matrix between the two lists.\n",
        "\n",
        "print('El promedio es:',a)\n",
        "print('La mediana es:',b)\n",
        "print('La desviación estándar es:',c)\n",
        "print('La matriz de correlación entre horas y notas es:',d)"
      ],
      "metadata": {
        "colab": {
          "base_uri": "https://localhost:8080/"
        },
        "id": "WhlGbmCoUhA9",
        "outputId": "87b6e95e-083e-4957-ae8b-6f730f355888"
      },
      "execution_count": null,
      "outputs": [
        {
          "output_type": "stream",
          "name": "stdout",
          "text": [
            "El promedio es: 4.6\n",
            "La mediana es: 4.0\n",
            "La desviación estándar es: 3.2\n",
            "La matriz de correlación entre horas y notas es: [[1.         0.99537041]\n",
            " [0.99537041 1.        ]]\n"
          ]
        }
      ]
    },
    {
      "cell_type": "code",
      "source": [
        "#CONTROL STRUCTURE\n",
        "#FOR cycles\n",
        "numeros = [13, 15, 18, 20, 23] #Declare the list\n",
        "for numero in numeros:         #For element in list\n",
        "  print(numero)\n",
        "\n",
        "# A block of n number of times:\n",
        "for numero in range(0,10) :    #Starts from 0 to n-1 =9\n",
        "  print(f\"numero = {numero}\")"
      ],
      "metadata": {
        "id": "pUzueqNyU0nN",
        "outputId": "b059523a-d5ab-4405-95ab-072e76b59fdf",
        "colab": {
          "base_uri": "https://localhost:8080/"
        }
      },
      "execution_count": null,
      "outputs": [
        {
          "output_type": "stream",
          "name": "stdout",
          "text": [
            "13\n",
            "15\n",
            "18\n",
            "20\n",
            "23\n",
            "numero = 0\n",
            "numero = 1\n",
            "numero = 2\n",
            "numero = 3\n",
            "numero = 4\n",
            "numero = 5\n",
            "numero = 6\n",
            "numero = 7\n",
            "numero = 8\n",
            "numero = 9\n"
          ]
        }
      ]
    },
    {
      "cell_type": "markdown",
      "source": [
        "* Condicional IF -> when it's fulfilled, it executes a block\n",
        "* elif -> Abbreviation of else if\n"
      ],
      "metadata": {
        "id": "LJ0F6G2jCLmd"
      }
    },
    {
      "cell_type": "code",
      "source": [
        "\n",
        "#Variable Definition\n",
        "\n",
        "habitacion=\"comedor\"\n",
        "area=160.0\n",
        "\n",
        "#conditional block construction\n",
        "\n",
        "if habitacion==\"comedor\": # Comparison\n",
        "  print(\"Buscar en el comedor\")\n",
        "elif habitacion==\"cocina\": #If the 'if' condition is not met, it enters here. -> sino si\n",
        "  print(\"Buscar en la cocina\")\n",
        "else: #if the conditions are not met -> else -> last option\n",
        "  print(\"Buscar en el resto de la casa\")\n",
        "\n",
        "#conditional block construction for area\n",
        "\n",
        "if area > 160 : #Test if the area is greater than the value 160\n",
        "  print(\"Lugar amplio\")\n",
        "elif area > 100:\n",
        "  print (\"Espacio Normal\")\n",
        "else:\n",
        "  print(\"Lugar pequeño\")"
      ],
      "metadata": {
        "colab": {
          "base_uri": "https://localhost:8080/"
        },
        "id": "KL5BqY8P_xoz",
        "outputId": "13d2f74d-24c9-45ec-ebba-8558f98b640c"
      },
      "execution_count": null,
      "outputs": [
        {
          "output_type": "stream",
          "name": "stdout",
          "text": [
            "Buscar en el comedor\n",
            "Espacio Normal\n"
          ]
        }
      ]
    },
    {
      "cell_type": "markdown",
      "source": [
        "While Loop\n",
        "\n",
        "* It runs as long as the condition is initially true; otherwise, it moves to the next group of statements.\n",
        "* Any number diffrente from 0 is true, if it's zero, it's false.\n",
        "* The condition can also be a list or a sequence; if it's empty, it's false\n",
        "\n"
      ],
      "metadata": {
        "id": "ufrC4n5yDDtw"
      }
    },
    {
      "cell_type": "code",
      "source": [
        "#List iteration\n",
        "\n",
        "vocales=[\"a\",\"e\",\"i\",\"o\",\"u\"]\n",
        "\n",
        "while vocales:\n",
        "  print(vocales.pop(0)) #Remove and return the first element of the list\n"
      ],
      "metadata": {
        "colab": {
          "base_uri": "https://localhost:8080/"
        },
        "id": "l2ixra4XCTmO",
        "outputId": "e8e9b359-c73c-4f66-88c2-d456da7a0d16"
      },
      "execution_count": null,
      "outputs": [
        {
          "output_type": "stream",
          "name": "stdout",
          "text": [
            "a\n",
            "e\n",
            "i\n",
            "o\n",
            "u\n"
          ]
        }
      ]
    },
    {
      "cell_type": "code",
      "source": [
        "vocales #It should appear empty due to the pop function also deletes the elements."
      ],
      "metadata": {
        "colab": {
          "base_uri": "https://localhost:8080/"
        },
        "id": "-iAuHHE-Fe_q",
        "outputId": "b2e574b6-dc9a-4d12-b027-34464eba5db7"
      },
      "execution_count": null,
      "outputs": [
        {
          "output_type": "execute_result",
          "data": {
            "text/plain": [
              "[]"
            ]
          },
          "metadata": {},
          "execution_count": 15
        }
      ]
    },
    {
      "cell_type": "code",
      "source": [
        "#example of a while loop: While x is different from 1, the printing is done\n",
        "\n",
        "x=3\n",
        "\n",
        "while x != 1:\n",
        "  print(f\"x={x}\")\n",
        "\n",
        "  if x % 2 ==0 : # check if it's even\n",
        "    x=x//2 #Divide and round down to the nearest integer\n",
        "  else:\n",
        "    x=3*x+1 #It happens if the number is odd\n"
      ],
      "metadata": {
        "colab": {
          "base_uri": "https://localhost:8080/"
        },
        "id": "ck3DfHfwGVxy",
        "outputId": "accacddc-7829-4c3a-a763-0223554d77f2"
      },
      "execution_count": null,
      "outputs": [
        {
          "output_type": "stream",
          "name": "stdout",
          "text": [
            "x=3\n",
            "x=10\n",
            "x=5\n",
            "x=16\n",
            "x=8\n",
            "x=4\n",
            "x=2\n"
          ]
        }
      ]
    },
    {
      "cell_type": "markdown",
      "source": [
        "Lambda functions\n",
        "\n",
        "Allows to define very simple anonymous functions, its return value is the result of evaluating a single expression."
      ],
      "metadata": {
        "id": "Z38EuX-gIxRK"
      }
    },
    {
      "cell_type": "code",
      "source": [
        "#lambda definitio\n",
        "\n",
        "funcion_lambda= lambda x,y: x+y\n",
        "funcion_lambda(2,3) # It receives the values of x and y in order to execute the operation."
      ],
      "metadata": {
        "id": "Rhj_C4AIJfr3",
        "colab": {
          "base_uri": "https://localhost:8080/"
        },
        "outputId": "a556abda-96c8-48c9-9063-817bebee8e29"
      },
      "execution_count": null,
      "outputs": [
        {
          "output_type": "execute_result",
          "data": {
            "text/plain": [
              "5"
            ]
          },
          "metadata": {},
          "execution_count": 17
        }
      ]
    },
    {
      "cell_type": "markdown",
      "source": [
        "Filter Function: Allows filtering from a list or iterator using a conditional function. Lambda functions are useful in these cases.\n",
        "\n"
      ],
      "metadata": {
        "id": "iPFCnTJ3DiA5"
      }
    },
    {
      "cell_type": "code",
      "source": [
        "a=[0,1,-1,-2,3,-4,5,6,7]\n",
        "resultado= filter (lambda x: x>0, a)\n",
        "\n",
        "for valor in resultado:\n",
        "  print(valor)"
      ],
      "metadata": {
        "colab": {
          "base_uri": "https://localhost:8080/"
        },
        "id": "D5SJOOibEa7W",
        "outputId": "4da205b5-e8a5-4e08-b46c-e8974d7ff8f6"
      },
      "execution_count": null,
      "outputs": [
        {
          "output_type": "stream",
          "name": "stdout",
          "text": [
            "1\n",
            "3\n",
            "5\n",
            "6\n",
            "7\n"
          ]
        }
      ]
    },
    {
      "cell_type": "markdown",
      "source": [
        "Map Function: It is similar to the filter function, but instead of applying a condition, it applies a function to all elements of the list and returns an iterable of type map."
      ],
      "metadata": {
        "id": "EMqgkjwQFAIc"
      }
    },
    {
      "cell_type": "code",
      "source": [
        "a=[1,2,3,4,5]\n",
        "b=[6,7,8,9,10]\n",
        "\n",
        "list(map(lambda x,y : x*y, a,b)) # It also recieves the lists to which the operation is applied."
      ],
      "metadata": {
        "colab": {
          "base_uri": "https://localhost:8080/"
        },
        "id": "xHxIcSajFjyO",
        "outputId": "d5cb3bba-3fe0-41bf-f9b9-7cee3ae48c85"
      },
      "execution_count": null,
      "outputs": [
        {
          "output_type": "execute_result",
          "data": {
            "text/plain": [
              "[6, 14, 24, 36, 50]"
            ]
          },
          "metadata": {},
          "execution_count": 19
        }
      ]
    },
    {
      "cell_type": "markdown",
      "source": [
        "List comprehensions: Provide a simple way to create a list based on iterables. Elements from the iterable can be conditionally included in a new list and also transformed."
      ],
      "metadata": {
        "id": "j4kN8Jkzj_4m"
      }
    },
    {
      "cell_type": "code",
      "source": [
        "numeros=[1,2,3,4,5]\n",
        "cuadrados=[numero**2 for numero in numeros] # Creates a new list with the square operation of each element from a previous list, iterating to create the new one.\n",
        "print(cuadrados)"
      ],
      "metadata": {
        "colab": {
          "base_uri": "https://localhost:8080/"
        },
        "id": "C3iBUZqVlc7V",
        "outputId": "e3d5592c-d964-43fa-eb55-ce8752bf8e90"
      },
      "execution_count": null,
      "outputs": [
        {
          "output_type": "stream",
          "name": "stdout",
          "text": [
            "[1, 4, 9, 16, 25]\n"
          ]
        }
      ]
    },
    {
      "cell_type": "code",
      "source": [
        "cuadrados=[numero**2 for numero in numeros if numero >2] # Perform the same process as the previous one, but check a condition before adding the element to the new list\n",
        "print(cuadrados)"
      ],
      "metadata": {
        "colab": {
          "base_uri": "https://localhost:8080/"
        },
        "id": "LWI3KyKPlzZJ",
        "outputId": "f5e831e8-f62c-49d5-f833-4a794224096a"
      },
      "execution_count": null,
      "outputs": [
        {
          "output_type": "stream",
          "name": "stdout",
          "text": [
            "[9, 16, 25]\n"
          ]
        }
      ]
    },
    {
      "cell_type": "markdown",
      "source": [
        "List comprehensions vs for loops: List comprehensions are often more efficient than for loops because they are written in a single line. However, it's important to note that \"Every list comprehension can be rewritten as a for loop, but not all for loops can be rewritten as a list comprehension."
      ],
      "metadata": {
        "id": "oYWWawl7mGoo"
      }
    },
    {
      "cell_type": "code",
      "source": [
        "nuemeros=[1,2,3,4]\n",
        "cuadrados=[]\n",
        "for numero in numeros: # Loop to iterate through the numbers in the list\n",
        "  if numero>2:# Conditional that checks if the current element is greater than 2\n",
        "    cuadrados.append(numero**2) # if it satisfies the condition, add the current element squared to the 'cuadrados' list.\n",
        "print(cuadrados)"
      ],
      "metadata": {
        "colab": {
          "base_uri": "https://localhost:8080/"
        },
        "id": "dTF2fpO5nL9E",
        "outputId": "43ea8979-cb8d-4345-942d-3f178186b303"
      },
      "execution_count": null,
      "outputs": [
        {
          "output_type": "stream",
          "name": "stdout",
          "text": [
            "[9, 16, 25]\n"
          ]
        }
      ]
    },
    {
      "cell_type": "markdown",
      "source": [
        "\n",
        "List comprehensions anidadas: If we place a list in the output expression of another list, you will obtain a matrix as a result."
      ],
      "metadata": {
        "id": "-ZYO5agenkYU"
      }
    },
    {
      "cell_type": "code",
      "source": [
        "matriz=[[item for item in range(5)] for fila in range(3)]#Iterate through the list with items from 0 to 4, then iterate this list 3 times (rows), creating a matrix\n",
        "print(matriz)"
      ],
      "metadata": {
        "colab": {
          "base_uri": "https://localhost:8080/"
        },
        "id": "sPg7jTL_odMp",
        "outputId": "0b743ab2-902c-43e8-9885-2403d213c432"
      },
      "execution_count": null,
      "outputs": [
        {
          "output_type": "stream",
          "name": "stdout",
          "text": [
            "[[0, 1, 2, 3, 4], [0, 1, 2, 3, 4], [0, 1, 2, 3, 4]]\n"
          ]
        }
      ]
    },
    {
      "cell_type": "code",
      "source": [],
      "metadata": {
        "id": "5rZA5EYGsLn-"
      },
      "execution_count": null,
      "outputs": []
    }
  ]
}